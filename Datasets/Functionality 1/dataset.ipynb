{
 "cells": [
  {
   "cell_type": "markdown",
   "id": "ad005564-926d-4545-b5fc-3520faf39ede",
   "metadata": {},
   "source": [
    "# Synthetic Dataset Generation"
   ]
  },
  {
   "cell_type": "markdown",
   "id": "25899ce8-2139-4bfb-86ed-a67339760f01",
   "metadata": {},
   "source": [
    "Importing the required libraries"
   ]
  },
  {
   "cell_type": "code",
   "execution_count": 35,
   "id": "94797da9-1199-4e0c-9f58-79c62bb7e106",
   "metadata": {},
   "outputs": [],
   "source": [
    "import pandas as pd\n",
    "import numpy as np\n",
    "import matplotlib.pyplot as plt"
   ]
  },
  {
   "cell_type": "markdown",
   "id": "67f5d2b5-451c-49f7-bc7a-b2e8459f20da",
   "metadata": {},
   "source": [
    "Naming the disease"
   ]
  },
  {
   "cell_type": "code",
   "execution_count": 73,
   "id": "c7ec0a97-38b1-48ac-a29e-0e5b2666f652",
   "metadata": {},
   "outputs": [],
   "source": [
    "chronic_disease = \"Diabetes\""
   ]
  },
  {
   "cell_type": "code",
   "execution_count": 57,
   "id": "ddf3d710-b517-4dd0-a635-9d6a6fd07d63",
   "metadata": {},
   "outputs": [],
   "source": [
    "# Setting the range for years\n",
    "years = np.arange(1901, 2102)"
   ]
  },
  {
   "cell_type": "code",
   "execution_count": 58,
   "id": "9f85bd85-2e2e-4af3-b6eb-13f82f011317",
   "metadata": {},
   "outputs": [],
   "source": [
    "# Assumed Growth Rates and Starting Points\n",
    "initial_population = 3000000  # Initial population in 1901\n",
    "population_growth_rate = 0.015  # 1.5% annual growth\n",
    "chronic_disease_rate = 0.01  # Initial chronic disease rate (1% of the population)\n",
    "mortality_rate = 0.005  # 0.5% mortality rate\n",
    "recovery_rate = 0.02  # 2% recovery rate\n",
    "\n",
    "pollution_start = 20  # Starting AQI in 1901\n",
    "pollution_increase_rate = 0.1  # AQI increase per year\n",
    "\n",
    "health_index_start = 100  # Initial health index in 1901\n",
    "health_index_decline_rate = 0.27  # Health index declines over time\n",
    "\n",
    "education_index_start = 34  # Initial education index\n",
    "education_growth_rate = 0.005  # Education index growth per year\n",
    "\n",
    "income_start = 2000  # Average income in 1901 (in USD)\n",
    "income_growth_rate = 0.03  # Income growth per year\n",
    "\n",
    "bmi_start = 22  # Initial average BMI\n",
    "bmi_increase_rate = 0.02  # BMI increase per year\n",
    "\n",
    "healthcare_access_start = 50  # Hospitals per 100,000 people\n",
    "healthcare_access_growth_rate = 0.2  # Growth rate per year\n",
    "\n",
    "smokers_start = 5000  # Initial smokers per 100,000\n",
    "smokers_change_rate = -20  # Reduction in smokers per year\n",
    "\n",
    "alcohol_consumers_start = 3000  # Initial alcohol consumers per 100,000\n",
    "alcohol_consumers_change_rate = 10  # Increase in alcohol consumers per year"
   ]
  },
  {
   "cell_type": "code",
   "execution_count": 59,
   "id": "fc0a890c-d0f2-4db6-b83e-a22f596d1524",
   "metadata": {},
   "outputs": [],
   "source": [
    "# Creating synthetic data for the years\n",
    "population = initial_population * (1 + population_growth_rate) ** (years - 1901)\n",
    "chronic_disease_patients = population * chronic_disease_rate\n",
    "mortality_count = chronic_disease_patients * mortality_rate\n",
    "recovery_count = chronic_disease_patients * recovery_rate\n",
    "pollution = pollution_start + pollution_increase_rate * (years - 1901)\n",
    "health_index = health_index_start - health_index_decline_rate * (years - 1901)\n",
    "education_index = education_index_start + education_growth_rate * (years - 1901)\n",
    "income_level = income_start * (1 + income_growth_rate) ** (years - 1901)\n",
    "bmi = bmi_start + bmi_increase_rate * (years - 1901)\n",
    "healthcare_access = healthcare_access_start + healthcare_access_growth_rate * (years - 1901)\n",
    "smokers = smokers_start + smokers_change_rate * (years - 1901)\n",
    "alcohol_consumers = alcohol_consumers_start + alcohol_consumers_change_rate * (years - 1901)"
   ]
  },
  {
   "cell_type": "code",
   "execution_count": 60,
   "id": "0c26b0aa-74da-473c-b3fc-3db5e47fbabc",
   "metadata": {},
   "outputs": [],
   "source": [
    "# Ensureing that values stay within realistic limits\n",
    "healthcare_access = np.clip(healthcare_access, 0, None)\n",
    "smokers = np.clip(smokers, 0, None)\n",
    "alcohol_consumers = np.clip(alcohol_consumers, 0, None)"
   ]
  },
  {
   "cell_type": "code",
   "execution_count": 61,
   "id": "feb7c04a-1caf-4070-8774-94046cc773eb",
   "metadata": {},
   "outputs": [],
   "source": [
    "# Create the DataFrame\n",
    "data = pd.DataFrame({\n",
    "    'Year': years,\n",
    "    'Population': population.astype(int),\n",
    "    'Chronic Disease Patient Count': chronic_disease_patients.astype(int),\n",
    "    'Mortality Rate Count': mortality_count.astype(int),\n",
    "    'Recovery / Management Count': recovery_count.astype(int),\n",
    "    'Pollution Level': pollution,\n",
    "    'Health Index': health_index,\n",
    "    'Education Index': education_index,\n",
    "    'Average Income Level': income_level.astype(int),\n",
    "    'Average BMI': bmi,\n",
    "    'Healthcare Access Rate': healthcare_access,\n",
    "    'Average Smokers (per 100,000)': smokers.astype(int),\n",
    "    'Average Alcohol Consumers (per 100,000)': alcohol_consumers.astype(int)\n",
    "})"
   ]
  },
  {
   "cell_type": "code",
   "execution_count": 62,
   "id": "944f50bf-291c-4dcf-a79d-80c4fc09ffd1",
   "metadata": {},
   "outputs": [],
   "source": [
    "# Save the dataset to a CSV file\n",
    "data.to_csv(\"D:\\AISSMS-IOIT\\General\\Hackathons\\Techathon\\Day1\\d1.csv\", index=False)"
   ]
  },
  {
   "cell_type": "code",
   "execution_count": 63,
   "id": "ff4d5d3c-3996-42c1-85b7-a74c8772fc9b",
   "metadata": {},
   "outputs": [
    {
     "data": {
      "text/html": [
       "<div>\n",
       "<style scoped>\n",
       "    .dataframe tbody tr th:only-of-type {\n",
       "        vertical-align: middle;\n",
       "    }\n",
       "\n",
       "    .dataframe tbody tr th {\n",
       "        vertical-align: top;\n",
       "    }\n",
       "\n",
       "    .dataframe thead th {\n",
       "        text-align: right;\n",
       "    }\n",
       "</style>\n",
       "<table border=\"1\" class=\"dataframe\">\n",
       "  <thead>\n",
       "    <tr style=\"text-align: right;\">\n",
       "      <th></th>\n",
       "      <th>Year</th>\n",
       "      <th>Population</th>\n",
       "      <th>Chronic Disease Patient Count</th>\n",
       "      <th>Mortality Rate Count</th>\n",
       "      <th>Recovery / Management Count</th>\n",
       "      <th>Pollution Level</th>\n",
       "      <th>Health Index</th>\n",
       "      <th>Education Index</th>\n",
       "      <th>Average Income Level</th>\n",
       "      <th>Average BMI</th>\n",
       "      <th>Healthcare Access Rate</th>\n",
       "      <th>Average Smokers (per 100,000)</th>\n",
       "      <th>Average Alcohol Consumers (per 100,000)</th>\n",
       "    </tr>\n",
       "  </thead>\n",
       "  <tbody>\n",
       "    <tr>\n",
       "      <th>0</th>\n",
       "      <td>1901</td>\n",
       "      <td>3000000</td>\n",
       "      <td>30000</td>\n",
       "      <td>150</td>\n",
       "      <td>600</td>\n",
       "      <td>20.0</td>\n",
       "      <td>100.00</td>\n",
       "      <td>34.000</td>\n",
       "      <td>2000</td>\n",
       "      <td>22.00</td>\n",
       "      <td>50.0</td>\n",
       "      <td>5000</td>\n",
       "      <td>3000</td>\n",
       "    </tr>\n",
       "    <tr>\n",
       "      <th>1</th>\n",
       "      <td>1902</td>\n",
       "      <td>3044999</td>\n",
       "      <td>30449</td>\n",
       "      <td>152</td>\n",
       "      <td>608</td>\n",
       "      <td>20.1</td>\n",
       "      <td>99.73</td>\n",
       "      <td>34.005</td>\n",
       "      <td>2060</td>\n",
       "      <td>22.02</td>\n",
       "      <td>50.2</td>\n",
       "      <td>4980</td>\n",
       "      <td>3010</td>\n",
       "    </tr>\n",
       "    <tr>\n",
       "      <th>2</th>\n",
       "      <td>1903</td>\n",
       "      <td>3090674</td>\n",
       "      <td>30906</td>\n",
       "      <td>154</td>\n",
       "      <td>618</td>\n",
       "      <td>20.2</td>\n",
       "      <td>99.46</td>\n",
       "      <td>34.010</td>\n",
       "      <td>2121</td>\n",
       "      <td>22.04</td>\n",
       "      <td>50.4</td>\n",
       "      <td>4960</td>\n",
       "      <td>3020</td>\n",
       "    </tr>\n",
       "    <tr>\n",
       "      <th>3</th>\n",
       "      <td>1904</td>\n",
       "      <td>3137035</td>\n",
       "      <td>31370</td>\n",
       "      <td>156</td>\n",
       "      <td>627</td>\n",
       "      <td>20.3</td>\n",
       "      <td>99.19</td>\n",
       "      <td>34.015</td>\n",
       "      <td>2185</td>\n",
       "      <td>22.06</td>\n",
       "      <td>50.6</td>\n",
       "      <td>4940</td>\n",
       "      <td>3030</td>\n",
       "    </tr>\n",
       "    <tr>\n",
       "      <th>4</th>\n",
       "      <td>1905</td>\n",
       "      <td>3184090</td>\n",
       "      <td>31840</td>\n",
       "      <td>159</td>\n",
       "      <td>636</td>\n",
       "      <td>20.4</td>\n",
       "      <td>98.92</td>\n",
       "      <td>34.020</td>\n",
       "      <td>2251</td>\n",
       "      <td>22.08</td>\n",
       "      <td>50.8</td>\n",
       "      <td>4920</td>\n",
       "      <td>3040</td>\n",
       "    </tr>\n",
       "  </tbody>\n",
       "</table>\n",
       "</div>"
      ],
      "text/plain": [
       "   Year  Population  Chronic Disease Patient Count  Mortality Rate Count  \\\n",
       "0  1901     3000000                          30000                   150   \n",
       "1  1902     3044999                          30449                   152   \n",
       "2  1903     3090674                          30906                   154   \n",
       "3  1904     3137035                          31370                   156   \n",
       "4  1905     3184090                          31840                   159   \n",
       "\n",
       "   Recovery / Management Count  Pollution Level  Health Index  \\\n",
       "0                          600             20.0        100.00   \n",
       "1                          608             20.1         99.73   \n",
       "2                          618             20.2         99.46   \n",
       "3                          627             20.3         99.19   \n",
       "4                          636             20.4         98.92   \n",
       "\n",
       "   Education Index  Average Income Level  Average BMI  Healthcare Access Rate  \\\n",
       "0           34.000                  2000        22.00                    50.0   \n",
       "1           34.005                  2060        22.02                    50.2   \n",
       "2           34.010                  2121        22.04                    50.4   \n",
       "3           34.015                  2185        22.06                    50.6   \n",
       "4           34.020                  2251        22.08                    50.8   \n",
       "\n",
       "   Average Smokers (per 100,000)  Average Alcohol Consumers (per 100,000)  \n",
       "0                           5000                                     3000  \n",
       "1                           4980                                     3010  \n",
       "2                           4960                                     3020  \n",
       "3                           4940                                     3030  \n",
       "4                           4920                                     3040  "
      ]
     },
     "execution_count": 63,
     "metadata": {},
     "output_type": "execute_result"
    }
   ],
   "source": [
    "data.head()"
   ]
  },
  {
   "cell_type": "code",
   "execution_count": 64,
   "id": "e5c059e7-4214-4cb8-8727-38b79ebea9e0",
   "metadata": {},
   "outputs": [
    {
     "data": {
      "text/html": [
       "<div>\n",
       "<style scoped>\n",
       "    .dataframe tbody tr th:only-of-type {\n",
       "        vertical-align: middle;\n",
       "    }\n",
       "\n",
       "    .dataframe tbody tr th {\n",
       "        vertical-align: top;\n",
       "    }\n",
       "\n",
       "    .dataframe thead th {\n",
       "        text-align: right;\n",
       "    }\n",
       "</style>\n",
       "<table border=\"1\" class=\"dataframe\">\n",
       "  <thead>\n",
       "    <tr style=\"text-align: right;\">\n",
       "      <th></th>\n",
       "      <th>Year</th>\n",
       "      <th>Population</th>\n",
       "      <th>Chronic Disease Patient Count</th>\n",
       "      <th>Mortality Rate Count</th>\n",
       "      <th>Recovery / Management Count</th>\n",
       "      <th>Pollution Level</th>\n",
       "      <th>Health Index</th>\n",
       "      <th>Education Index</th>\n",
       "      <th>Average Income Level</th>\n",
       "      <th>Average BMI</th>\n",
       "      <th>Healthcare Access Rate</th>\n",
       "      <th>Average Smokers (per 100,000)</th>\n",
       "      <th>Average Alcohol Consumers (per 100,000)</th>\n",
       "    </tr>\n",
       "  </thead>\n",
       "  <tbody>\n",
       "    <tr>\n",
       "      <th>196</th>\n",
       "      <td>2097</td>\n",
       "      <td>55522055</td>\n",
       "      <td>555220</td>\n",
       "      <td>2776</td>\n",
       "      <td>11104</td>\n",
       "      <td>39.6</td>\n",
       "      <td>47.08</td>\n",
       "      <td>34.980</td>\n",
       "      <td>656335</td>\n",
       "      <td>25.92</td>\n",
       "      <td>89.2</td>\n",
       "      <td>1080</td>\n",
       "      <td>4960</td>\n",
       "    </tr>\n",
       "    <tr>\n",
       "      <th>197</th>\n",
       "      <td>2098</td>\n",
       "      <td>56354886</td>\n",
       "      <td>563548</td>\n",
       "      <td>2817</td>\n",
       "      <td>11270</td>\n",
       "      <td>39.7</td>\n",
       "      <td>46.81</td>\n",
       "      <td>34.985</td>\n",
       "      <td>676025</td>\n",
       "      <td>25.94</td>\n",
       "      <td>89.4</td>\n",
       "      <td>1060</td>\n",
       "      <td>4970</td>\n",
       "    </tr>\n",
       "    <tr>\n",
       "      <th>198</th>\n",
       "      <td>2099</td>\n",
       "      <td>57200209</td>\n",
       "      <td>572002</td>\n",
       "      <td>2860</td>\n",
       "      <td>11440</td>\n",
       "      <td>39.8</td>\n",
       "      <td>46.54</td>\n",
       "      <td>34.990</td>\n",
       "      <td>696306</td>\n",
       "      <td>25.96</td>\n",
       "      <td>89.6</td>\n",
       "      <td>1040</td>\n",
       "      <td>4980</td>\n",
       "    </tr>\n",
       "    <tr>\n",
       "      <th>199</th>\n",
       "      <td>2100</td>\n",
       "      <td>58058212</td>\n",
       "      <td>580582</td>\n",
       "      <td>2902</td>\n",
       "      <td>11611</td>\n",
       "      <td>39.9</td>\n",
       "      <td>46.27</td>\n",
       "      <td>34.995</td>\n",
       "      <td>717195</td>\n",
       "      <td>25.98</td>\n",
       "      <td>89.8</td>\n",
       "      <td>1020</td>\n",
       "      <td>4990</td>\n",
       "    </tr>\n",
       "    <tr>\n",
       "      <th>200</th>\n",
       "      <td>2101</td>\n",
       "      <td>58929085</td>\n",
       "      <td>589290</td>\n",
       "      <td>2946</td>\n",
       "      <td>11785</td>\n",
       "      <td>40.0</td>\n",
       "      <td>46.00</td>\n",
       "      <td>35.000</td>\n",
       "      <td>738711</td>\n",
       "      <td>26.00</td>\n",
       "      <td>90.0</td>\n",
       "      <td>1000</td>\n",
       "      <td>5000</td>\n",
       "    </tr>\n",
       "  </tbody>\n",
       "</table>\n",
       "</div>"
      ],
      "text/plain": [
       "     Year  Population  Chronic Disease Patient Count  Mortality Rate Count  \\\n",
       "196  2097    55522055                         555220                  2776   \n",
       "197  2098    56354886                         563548                  2817   \n",
       "198  2099    57200209                         572002                  2860   \n",
       "199  2100    58058212                         580582                  2902   \n",
       "200  2101    58929085                         589290                  2946   \n",
       "\n",
       "     Recovery / Management Count  Pollution Level  Health Index  \\\n",
       "196                        11104             39.6         47.08   \n",
       "197                        11270             39.7         46.81   \n",
       "198                        11440             39.8         46.54   \n",
       "199                        11611             39.9         46.27   \n",
       "200                        11785             40.0         46.00   \n",
       "\n",
       "     Education Index  Average Income Level  Average BMI  \\\n",
       "196           34.980                656335        25.92   \n",
       "197           34.985                676025        25.94   \n",
       "198           34.990                696306        25.96   \n",
       "199           34.995                717195        25.98   \n",
       "200           35.000                738711        26.00   \n",
       "\n",
       "     Healthcare Access Rate  Average Smokers (per 100,000)  \\\n",
       "196                    89.2                           1080   \n",
       "197                    89.4                           1060   \n",
       "198                    89.6                           1040   \n",
       "199                    89.8                           1020   \n",
       "200                    90.0                           1000   \n",
       "\n",
       "     Average Alcohol Consumers (per 100,000)  \n",
       "196                                     4960  \n",
       "197                                     4970  \n",
       "198                                     4980  \n",
       "199                                     4990  \n",
       "200                                     5000  "
      ]
     },
     "execution_count": 64,
     "metadata": {},
     "output_type": "execute_result"
    }
   ],
   "source": [
    "data.tail()"
   ]
  },
  {
   "cell_type": "code",
   "execution_count": 74,
   "id": "1d524d12-d12e-4f64-8c80-e153b9b5fd80",
   "metadata": {},
   "outputs": [
    {
     "data": {
      "text/plain": [
       "<matplotlib.legend.Legend at 0x277d06c68d0>"
      ]
     },
     "execution_count": 74,
     "metadata": {},
     "output_type": "execute_result"
    },
    {
     "data": {
      "image/png": "[encoded data removed]",
      "text/plain": [
       "<Figure size 1200x800 with 1 Axes>"
      ]
     },
     "metadata": {},
     "output_type": "display_data"
    }
   ],
   "source": [
    "# Plot some of the trends\n",
    "plt.figure(figsize=(12, 8))\n",
    "\n",
    "plt.subplot(3, 1, 1)\n",
    "plt.plot(years, data['Chronic Disease Patient Count'], label=chronic_disease)\n",
    "plt.title('Chronic Disease Trends')\n",
    "plt.xlabel('Year')\n",
    "plt.ylabel('Count')\n",
    "plt.legend()"
   ]
  },
  {
   "cell_type": "code",
   "execution_count": 75,
   "id": "fb043573-ce11-4fce-a0de-4dc3fe0cee09",
   "metadata": {},
   "outputs": [
    {
     "data": {
      "text/plain": [
       "<matplotlib.legend.Legend at 0x277d06e38d0>"
      ]
     },
     "execution_count": 75,
     "metadata": {},
     "output_type": "execute_result"
    },
    {
     "data": {
      "image/png": "[encoded data removed]",
      "text/plain": [
       "<Figure size 1200x800 with 1 Axes>"
      ]
     },
     "metadata": {},
     "output_type": "display_data"
    }
   ],
   "source": [
    "# Plot some of the trends\n",
    "plt.figure(figsize=(12, 8))\n",
    "\n",
    "plt.subplot(3, 1, 1)\n",
    "plt.plot(years, data['Mortality Rate Count'], label='Mortality Count', color=\"r\")\n",
    "plt.title(chronic_disease + ' Trends')\n",
    "plt.xlabel('Year')\n",
    "plt.ylabel('Count')\n",
    "plt.legend()"
   ]
  },
  {
   "cell_type": "code",
   "execution_count": 77,
   "id": "05596bac-101b-456d-86e6-abcb6ed8201b",
   "metadata": {},
   "outputs": [
    {
     "data": {
      "text/plain": [
       "<matplotlib.legend.Legend at 0x277d0727410>"
      ]
     },
     "execution_count": 77,
     "metadata": {},
     "output_type": "execute_result"
    },
    {
     "data": {
      "image/png": "[encoded data removed]",
      "text/plain": [
       "<Figure size 1200x800 with 1 Axes>"
      ]
     },
     "metadata": {},
     "output_type": "display_data"
    }
   ],
   "source": [
    "# Plot some of the trends\n",
    "plt.figure(figsize=(12, 8))\n",
    "\n",
    "plt.subplot(3, 1, 1)\n",
    "plt.plot(years, data['Recovery / Management Count'], label='Recovery Count', color=\"violet\")\n",
    "plt.title(chronic_disease + ' Trends')\n",
    "plt.xlabel('Year')\n",
    "plt.ylabel('Count')\n",
    "plt.legend()"
   ]
  },
  {
   "cell_type": "markdown",
   "id": "ebea6cbf-1175-4e6f-9d83-9bb5edeefe7f",
   "metadata": {},
   "source": [
    "# Terminated"
   ]
  }
 ],
 "metadata": {
  "kernelspec": {
   "display_name": "Python 3 (ipykernel)",
   "language": "python",
   "name": "python3"
  },
  "language_info": {
   "codemirror_mode": {
    "name": "ipython",
    "version": 3
   },
   "file_extension": ".py",
   "mimetype": "text/x-python",
   "name": "python",
   "nbconvert_exporter": "python",
   "pygments_lexer": "ipython3",
   "version": "3.11.5"
  }
 },
 "nbformat": 4,
 "nbformat_minor": 5
}
