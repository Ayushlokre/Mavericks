{
  "nbformat": 4,
  "nbformat_minor": 0,
  "metadata": {
    "colab": {
      "provenance": []
    },
    "kernelspec": {
      "name": "python3",
      "display_name": "Python 3"
    },
    "language_info": {
      "name": "python"
    }
  },
  "cells": [
    {
      "cell_type": "code",
      "execution_count": 9,
      "metadata": {
        "colab": {
          "base_uri": "https://localhost:8080/"
        },
        "id": "TGmiCU2L910f",
        "outputId": "e93e0c56-95d9-43d7-aa9d-ec9790a59799"
      },
      "outputs": [
        {
          "output_type": "stream",
          "name": "stdout",
          "text": [
            "Encrypted: A3Nc/TIggXsmXzrbuBlg+VMryb3JfFaNrCPtCm4mg6QKxVmgAh3SNaXnJMPIcvGUk0YnuRwz/0t4vUFn5EZP3Q==\n",
            "Decrypted: Patient ID: 12345, Blood Pressure: 120/80\n"
          ]
        }
      ],
      "source": [
        "from Crypto.Cipher import AES\n",
        "from Crypto.Random import get_random_bytes\n",
        "from Crypto.Util.Padding import pad, unpad\n",
        "import base64\n",
        "\n",
        "# 256 bits(32 bytes) key\n",
        "key = get_random_bytes(32)\n",
        "iv = get_random_bytes(16)\n",
        "\n",
        "# Encrypt function\n",
        "def encrypt_data(data, key, iv):\n",
        "    cipher = AES.new(key, AES.MODE_CBC, iv)\n",
        "    encrypted_data = cipher.encrypt(pad(data.encode(), AES.block_size))\n",
        "    return base64.b64encode(iv + encrypted_data).decode()\n",
        "\n",
        "# Decrypt function\n",
        "def decrypt_data(encrypted_data, key):\n",
        "    raw = base64.b64decode(encrypted_data)\n",
        "    iv = raw[:16]\n",
        "    encrypted_text = raw[16:]\n",
        "    cipher = AES.new(key, AES.MODE_CBC, iv)\n",
        "    return unpad(cipher.decrypt(encrypted_text), AES.block_size).decode()\n",
        "\n",
        "message = \"UHI_ID: 12345, Blood Pressure: 120/80\"\n",
        "encrypted_msg = encrypt_data(message, key, iv)\n",
        "decrypted_msg = decrypt_data(encrypted_msg, key)\n",
        "\n",
        "print(\"Encrypted:\", encrypted_msg)\n",
        "print(\"Decrypted:\", decrypted_msg)"
      ]
    },
    {
      "cell_type": "code",
      "source": [
        "!pip install pycryptodome\n",
        "\n"
      ],
      "metadata": {
        "colab": {
          "base_uri": "https://localhost:8080/"
        },
        "id": "BnVDEq00-Cke",
        "outputId": "1a4f4952-725a-4aa6-bae5-a7b1d7d7c31a"
      },
      "execution_count": 8,
      "outputs": [
        {
          "output_type": "stream",
          "name": "stdout",
          "text": [
            "Collecting pycryptodome\n",
            "  Downloading pycryptodome-3.21.0-cp36-abi3-manylinux_2_17_x86_64.manylinux2014_x86_64.whl.metadata (3.4 kB)\n",
            "Downloading pycryptodome-3.21.0-cp36-abi3-manylinux_2_17_x86_64.manylinux2014_x86_64.whl (2.3 MB)\n",
            "\u001b[2K   \u001b[90m━━━━━━━━━━━━━━━━━━━━━━━━━━━━━━━━━━━━━━━━\u001b[0m \u001b[32m2.3/2.3 MB\u001b[0m \u001b[31m28.5 MB/s\u001b[0m eta \u001b[36m0:00:00\u001b[0m\n",
            "\u001b[?25hInstalling collected packages: pycryptodome\n",
            "Successfully installed pycryptodome-3.21.0\n"
          ]
        }
      ]
    },
    {
      "cell_type": "code",
      "source": [],
      "metadata": {
        "id": "fCLZ5icu-FaM"
      },
      "execution_count": null,
      "outputs": []
    }
  ]
}