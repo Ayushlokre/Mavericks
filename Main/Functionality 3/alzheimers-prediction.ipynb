{
 "cells": [
  {
   "cell_type": "markdown",
   "id": "1b3a84a4",
   "metadata": {
    "papermill": {
     "duration": 0.013252,
     "end_time": "2025-02-13T02:58:44.187251",
     "exception": false,
     "start_time": "2025-02-13T02:58:44.173999",
     "status": "completed"
    },
    "tags": []
   },
   "source": [
    "<div style=\"color:white;\n",
    "            display:fill;\n",
    "            border-radius:15px;\n",
    "            background-color:black;\n",
    "            font-size:100%;\n",
    "            font-family:Verdana;\n",
    "            letter-spacing:1px\">\n",
    "    <h1 style='padding: 20px;\n",
    "              color:white;\n",
    "              text-align:center;'>\n",
    "        Import Needed Libraries\n",
    "    </h1>\n",
    "    </div>"
   ]
  },
  {
   "cell_type": "code",
   "execution_count": 1,
   "id": "5e8dd7eb",
   "metadata": {
    "papermill": {
     "duration": 5.138289,
     "end_time": "2025-02-13T02:58:49.338163",
     "exception": false,
     "start_time": "2025-02-13T02:58:44.199874",
     "status": "completed"
    },
    "tags": []
   },
   "outputs": [
    {
     "data": {
      "text/html": [
       "        <script type=\"text/javascript\">\n",
       "        window.PlotlyConfig = {MathJaxConfig: 'local'};\n",
       "        if (window.MathJax && window.MathJax.Hub && window.MathJax.Hub.Config) {window.MathJax.Hub.Config({SVG: {font: \"STIX-Web\"}});}\n",
       "        </script>\n",
       "        <script type=\"module\">import \"https://cdn.plot.ly/plotly-3.0.0.min\"</script>\n",
       "        "
      ]
     },
     "metadata": {},
     "output_type": "display_data"
    }
   ],
   "source": [
    "import joblib\n",
    "import pandas as pd\n",
    "import numpy as np\n",
    "import matplotlib.pyplot as plt\n",
    "import seaborn as sns\n",
    "import plotly.express as px\n",
    "from plotly.offline import iplot , plot\n",
    "import plotly.io as pio\n",
    "from plotly.offline import init_notebook_mode\n",
    "init_notebook_mode(connected=True)\n",
    "from plotly.subplots import make_subplots\n",
    "from sklearn.preprocessing import MinMaxScaler , LabelEncoder\n",
    "from sklearn.model_selection import train_test_split , cross_val_score\n",
    "from sklearn.linear_model import LogisticRegression\n",
    "from sklearn.ensemble import RandomForestClassifier , GradientBoostingClassifier , BaggingClassifier\n",
    "from sklearn.svm import SVC\n",
    "from sklearn.tree import DecisionTreeClassifier\n",
    "from sklearn.neighbors import KNeighborsClassifier\n",
    "from sklearn.metrics import  ConfusionMatrixDisplay, classification_report\n",
    "import warnings\n",
    "warnings.filterwarnings('ignore')"
   ]
  },
  {
   "cell_type": "markdown",
   "id": "1dc06316",
   "metadata": {
    "papermill": {
     "duration": 0.013406,
     "end_time": "2025-02-13T02:58:49.365009",
     "exception": false,
     "start_time": "2025-02-13T02:58:49.351603",
     "status": "completed"
    },
    "tags": []
   },
   "source": [
    "<div style=\"color:white;\n",
    "            display:fill;\n",
    "            border-radius:15px;\n",
    "            background-color:black;\n",
    "            font-size:100%;\n",
    "            font-family:Verdana;\n",
    "            letter-spacing:1px\">\n",
    "    <h1 style='padding: 20px;\n",
    "              color:white;\n",
    "              text-align:center;'>\n",
    "        Reading Dataset And Get Info\n",
    "    </h1>\n",
    "    </div>"
   ]
  },
  {
   "cell_type": "code",
   "execution_count": 2,
   "id": "902ebd86",
   "metadata": {
    "papermill": {
     "duration": 0.486049,
     "end_time": "2025-02-13T02:58:49.864008",
     "exception": false,
     "start_time": "2025-02-13T02:58:49.377959",
     "status": "completed"
    },
    "tags": []
   },
   "outputs": [],
   "source": [
    "df = pd.read_csv('./alzheimers_prediction_dataset.csv')"
   ]
  },
  {
   "cell_type": "code",
   "execution_count": 3,
   "id": "5e375a12",
   "metadata": {
    "papermill": {
     "duration": 0.064825,
     "end_time": "2025-02-13T02:58:49.941868",
     "exception": false,
     "start_time": "2025-02-13T02:58:49.877043",
     "status": "completed"
    },
    "tags": []
   },
   "outputs": [
    {
     "data": {
      "text/html": [
       "<div>\n",
       "<style scoped>\n",
       "    .dataframe tbody tr th:only-of-type {\n",
       "        vertical-align: middle;\n",
       "    }\n",
       "\n",
       "    .dataframe tbody tr th {\n",
       "        vertical-align: top;\n",
       "    }\n",
       "\n",
       "    .dataframe thead th {\n",
       "        text-align: right;\n",
       "    }\n",
       "</style>\n",
       "<table border=\"1\" class=\"dataframe\">\n",
       "  <thead>\n",
       "    <tr style=\"text-align: right;\">\n",
       "      <th></th>\n",
       "      <th>Country</th>\n",
       "      <th>Age</th>\n",
       "      <th>Gender</th>\n",
       "      <th>Education Level</th>\n",
       "      <th>BMI</th>\n",
       "      <th>Physical Activity Level</th>\n",
       "      <th>Smoking Status</th>\n",
       "      <th>Alcohol Consumption</th>\n",
       "      <th>Diabetes</th>\n",
       "      <th>Hypertension</th>\n",
       "      <th>...</th>\n",
       "      <th>Dietary Habits</th>\n",
       "      <th>Air Pollution Exposure</th>\n",
       "      <th>Employment Status</th>\n",
       "      <th>Marital Status</th>\n",
       "      <th>Genetic Risk Factor (APOE-ε4 allele)</th>\n",
       "      <th>Social Engagement Level</th>\n",
       "      <th>Income Level</th>\n",
       "      <th>Stress Levels</th>\n",
       "      <th>Urban vs Rural Living</th>\n",
       "      <th>Alzheimer’s Diagnosis</th>\n",
       "    </tr>\n",
       "  </thead>\n",
       "  <tbody>\n",
       "    <tr>\n",
       "      <th>51097</th>\n",
       "      <td>Australia</td>\n",
       "      <td>82</td>\n",
       "      <td>Male</td>\n",
       "      <td>11</td>\n",
       "      <td>25.8</td>\n",
       "      <td>Medium</td>\n",
       "      <td>Former</td>\n",
       "      <td>Occasionally</td>\n",
       "      <td>Yes</td>\n",
       "      <td>No</td>\n",
       "      <td>...</td>\n",
       "      <td>Healthy</td>\n",
       "      <td>High</td>\n",
       "      <td>Retired</td>\n",
       "      <td>Widowed</td>\n",
       "      <td>Yes</td>\n",
       "      <td>High</td>\n",
       "      <td>High</td>\n",
       "      <td>Low</td>\n",
       "      <td>Urban</td>\n",
       "      <td>Yes</td>\n",
       "    </tr>\n",
       "    <tr>\n",
       "      <th>45258</th>\n",
       "      <td>South Africa</td>\n",
       "      <td>52</td>\n",
       "      <td>Female</td>\n",
       "      <td>4</td>\n",
       "      <td>26.2</td>\n",
       "      <td>Medium</td>\n",
       "      <td>Current</td>\n",
       "      <td>Never</td>\n",
       "      <td>No</td>\n",
       "      <td>No</td>\n",
       "      <td>...</td>\n",
       "      <td>Unhealthy</td>\n",
       "      <td>High</td>\n",
       "      <td>Unemployed</td>\n",
       "      <td>Single</td>\n",
       "      <td>No</td>\n",
       "      <td>High</td>\n",
       "      <td>Low</td>\n",
       "      <td>Low</td>\n",
       "      <td>Urban</td>\n",
       "      <td>No</td>\n",
       "    </tr>\n",
       "    <tr>\n",
       "      <th>3518</th>\n",
       "      <td>USA</td>\n",
       "      <td>70</td>\n",
       "      <td>Male</td>\n",
       "      <td>12</td>\n",
       "      <td>18.9</td>\n",
       "      <td>Low</td>\n",
       "      <td>Current</td>\n",
       "      <td>Never</td>\n",
       "      <td>No</td>\n",
       "      <td>No</td>\n",
       "      <td>...</td>\n",
       "      <td>Healthy</td>\n",
       "      <td>Low</td>\n",
       "      <td>Unemployed</td>\n",
       "      <td>Married</td>\n",
       "      <td>No</td>\n",
       "      <td>High</td>\n",
       "      <td>Low</td>\n",
       "      <td>Medium</td>\n",
       "      <td>Urban</td>\n",
       "      <td>Yes</td>\n",
       "    </tr>\n",
       "    <tr>\n",
       "      <th>41248</th>\n",
       "      <td>Germany</td>\n",
       "      <td>89</td>\n",
       "      <td>Male</td>\n",
       "      <td>5</td>\n",
       "      <td>19.8</td>\n",
       "      <td>Medium</td>\n",
       "      <td>Former</td>\n",
       "      <td>Never</td>\n",
       "      <td>No</td>\n",
       "      <td>Yes</td>\n",
       "      <td>...</td>\n",
       "      <td>Average</td>\n",
       "      <td>Medium</td>\n",
       "      <td>Retired</td>\n",
       "      <td>Single</td>\n",
       "      <td>No</td>\n",
       "      <td>High</td>\n",
       "      <td>Low</td>\n",
       "      <td>Medium</td>\n",
       "      <td>Rural</td>\n",
       "      <td>No</td>\n",
       "    </tr>\n",
       "    <tr>\n",
       "      <th>47313</th>\n",
       "      <td>Argentina</td>\n",
       "      <td>73</td>\n",
       "      <td>Male</td>\n",
       "      <td>2</td>\n",
       "      <td>24.9</td>\n",
       "      <td>High</td>\n",
       "      <td>Former</td>\n",
       "      <td>Occasionally</td>\n",
       "      <td>No</td>\n",
       "      <td>No</td>\n",
       "      <td>...</td>\n",
       "      <td>Average</td>\n",
       "      <td>High</td>\n",
       "      <td>Employed</td>\n",
       "      <td>Married</td>\n",
       "      <td>No</td>\n",
       "      <td>Medium</td>\n",
       "      <td>Medium</td>\n",
       "      <td>Low</td>\n",
       "      <td>Urban</td>\n",
       "      <td>No</td>\n",
       "    </tr>\n",
       "  </tbody>\n",
       "</table>\n",
       "<p>5 rows × 25 columns</p>\n",
       "</div>"
      ],
      "text/plain": [
       "            Country  Age  Gender  Education Level   BMI  \\\n",
       "51097     Australia   82    Male               11  25.8   \n",
       "45258  South Africa   52  Female                4  26.2   \n",
       "3518            USA   70    Male               12  18.9   \n",
       "41248       Germany   89    Male                5  19.8   \n",
       "47313     Argentina   73    Male                2  24.9   \n",
       "\n",
       "      Physical Activity Level Smoking Status Alcohol Consumption Diabetes  \\\n",
       "51097                  Medium         Former        Occasionally      Yes   \n",
       "45258                  Medium        Current               Never       No   \n",
       "3518                      Low        Current               Never       No   \n",
       "41248                  Medium         Former               Never       No   \n",
       "47313                    High         Former        Occasionally       No   \n",
       "\n",
       "      Hypertension  ... Dietary Habits Air Pollution Exposure  \\\n",
       "51097           No  ...        Healthy                   High   \n",
       "45258           No  ...      Unhealthy                   High   \n",
       "3518            No  ...        Healthy                    Low   \n",
       "41248          Yes  ...        Average                 Medium   \n",
       "47313           No  ...        Average                   High   \n",
       "\n",
       "       Employment Status Marital Status Genetic Risk Factor (APOE-ε4 allele)  \\\n",
       "51097            Retired        Widowed                                  Yes   \n",
       "45258         Unemployed         Single                                   No   \n",
       "3518          Unemployed        Married                                   No   \n",
       "41248            Retired         Single                                   No   \n",
       "47313           Employed        Married                                   No   \n",
       "\n",
       "      Social Engagement Level Income Level Stress Levels  \\\n",
       "51097                    High         High           Low   \n",
       "45258                    High          Low           Low   \n",
       "3518                     High          Low        Medium   \n",
       "41248                    High          Low        Medium   \n",
       "47313                  Medium       Medium           Low   \n",
       "\n",
       "      Urban vs Rural Living Alzheimer’s Diagnosis  \n",
       "51097                 Urban                   Yes  \n",
       "45258                 Urban                    No  \n",
       "3518                  Urban                   Yes  \n",
       "41248                 Rural                    No  \n",
       "47313                 Urban                    No  \n",
       "\n",
       "[5 rows x 25 columns]"
      ]
     },
     "execution_count": 3,
     "metadata": {},
     "output_type": "execute_result"
    }
   ],
   "source": [
    "# Show Sample of Data\n",
    "df.sample(5)"
   ]
  },
  {
   "cell_type": "code",
   "execution_count": 4,
   "id": "d0819585",
   "metadata": {
    "papermill": {
     "duration": 0.021655,
     "end_time": "2025-02-13T02:58:49.977360",
     "exception": false,
     "start_time": "2025-02-13T02:58:49.955705",
     "status": "completed"
    },
    "tags": []
   },
   "outputs": [
    {
     "name": "stdout",
     "output_type": "stream",
     "text": [
      "Number of Row : 74283\n",
      "Number of Columns : 25\n"
     ]
    }
   ],
   "source": [
    "# Show Shape of Data\n",
    "print(f\"Number of Row : {df.shape[0]}\\nNumber of Columns : {df.shape[1]}\")"
   ]
  },
  {
   "cell_type": "code",
   "execution_count": 5,
   "id": "c7b03dfa",
   "metadata": {
    "papermill": {
     "duration": 0.132233,
     "end_time": "2025-02-13T02:58:50.123408",
     "exception": false,
     "start_time": "2025-02-13T02:58:49.991175",
     "status": "completed"
    },
    "tags": []
   },
   "outputs": [
    {
     "name": "stdout",
     "output_type": "stream",
     "text": [
      "<class 'pandas.core.frame.DataFrame'>\n",
      "RangeIndex: 74283 entries, 0 to 74282\n",
      "Data columns (total 25 columns):\n",
      " #   Column                                Non-Null Count  Dtype  \n",
      "---  ------                                --------------  -----  \n",
      " 0   Country                               74283 non-null  object \n",
      " 1   Age                                   74283 non-null  int64  \n",
      " 2   Gender                                74283 non-null  object \n",
      " 3   Education Level                       74283 non-null  int64  \n",
      " 4   BMI                                   74283 non-null  float64\n",
      " 5   Physical Activity Level               74283 non-null  object \n",
      " 6   Smoking Status                        74283 non-null  object \n",
      " 7   Alcohol Consumption                   74283 non-null  object \n",
      " 8   Diabetes                              74283 non-null  object \n",
      " 9   Hypertension                          74283 non-null  object \n",
      " 10  Cholesterol Level                     74283 non-null  object \n",
      " 11  Family History of Alzheimer’s         74283 non-null  object \n",
      " 12  Cognitive Test Score                  74283 non-null  int64  \n",
      " 13  Depression Level                      74283 non-null  object \n",
      " 14  Sleep Quality                         74283 non-null  object \n",
      " 15  Dietary Habits                        74283 non-null  object \n",
      " 16  Air Pollution Exposure                74283 non-null  object \n",
      " 17  Employment Status                     74283 non-null  object \n",
      " 18  Marital Status                        74283 non-null  object \n",
      " 19  Genetic Risk Factor (APOE-ε4 allele)  74283 non-null  object \n",
      " 20  Social Engagement Level               74283 non-null  object \n",
      " 21  Income Level                          74283 non-null  object \n",
      " 22  Stress Levels                         74283 non-null  object \n",
      " 23  Urban vs Rural Living                 74283 non-null  object \n",
      " 24  Alzheimer’s Diagnosis                 74283 non-null  object \n",
      "dtypes: float64(1), int64(3), object(21)\n",
      "memory usage: 14.2+ MB\n"
     ]
    }
   ],
   "source": [
    "df.info()"
   ]
  },
  {
   "cell_type": "code",
   "execution_count": 6,
   "id": "3579c9f5",
   "metadata": {
    "papermill": {
     "duration": 0.103069,
     "end_time": "2025-02-13T02:58:50.240154",
     "exception": false,
     "start_time": "2025-02-13T02:58:50.137085",
     "status": "completed"
    },
    "tags": []
   },
   "outputs": [
    {
     "data": {
      "text/plain": [
       "Country                                 0\n",
       "Age                                     0\n",
       "Gender                                  0\n",
       "Education Level                         0\n",
       "BMI                                     0\n",
       "Physical Activity Level                 0\n",
       "Smoking Status                          0\n",
       "Alcohol Consumption                     0\n",
       "Diabetes                                0\n",
       "Hypertension                            0\n",
       "Cholesterol Level                       0\n",
       "Family History of Alzheimer’s           0\n",
       "Cognitive Test Score                    0\n",
       "Depression Level                        0\n",
       "Sleep Quality                           0\n",
       "Dietary Habits                          0\n",
       "Air Pollution Exposure                  0\n",
       "Employment Status                       0\n",
       "Marital Status                          0\n",
       "Genetic Risk Factor (APOE-ε4 allele)    0\n",
       "Social Engagement Level                 0\n",
       "Income Level                            0\n",
       "Stress Levels                           0\n",
       "Urban vs Rural Living                   0\n",
       "Alzheimer’s Diagnosis                   0\n",
       "dtype: int64"
      ]
     },
     "execution_count": 6,
     "metadata": {},
     "output_type": "execute_result"
    }
   ],
   "source": [
    "# Check NaN Value\n",
    "df.isna().sum()"
   ]
  },
  {
   "cell_type": "code",
   "execution_count": 7,
   "id": "c57a2ce4",
   "metadata": {
    "papermill": {
     "duration": 0.055091,
     "end_time": "2025-02-13T02:58:50.308929",
     "exception": false,
     "start_time": "2025-02-13T02:58:50.253838",
     "status": "completed"
    },
    "tags": []
   },
   "outputs": [
    {
     "data": {
      "text/html": [
       "<div>\n",
       "<style scoped>\n",
       "    .dataframe tbody tr th:only-of-type {\n",
       "        vertical-align: middle;\n",
       "    }\n",
       "\n",
       "    .dataframe tbody tr th {\n",
       "        vertical-align: top;\n",
       "    }\n",
       "\n",
       "    .dataframe thead th {\n",
       "        text-align: right;\n",
       "    }\n",
       "</style>\n",
       "<table border=\"1\" class=\"dataframe\">\n",
       "  <thead>\n",
       "    <tr style=\"text-align: right;\">\n",
       "      <th></th>\n",
       "      <th>Age</th>\n",
       "      <th>Education Level</th>\n",
       "      <th>BMI</th>\n",
       "      <th>Cognitive Test Score</th>\n",
       "    </tr>\n",
       "  </thead>\n",
       "  <tbody>\n",
       "    <tr>\n",
       "      <th>count</th>\n",
       "      <td>74283.000000</td>\n",
       "      <td>74283.000000</td>\n",
       "      <td>74283.000000</td>\n",
       "      <td>74283.000000</td>\n",
       "    </tr>\n",
       "    <tr>\n",
       "      <th>mean</th>\n",
       "      <td>71.964703</td>\n",
       "      <td>9.487514</td>\n",
       "      <td>26.780639</td>\n",
       "      <td>64.654241</td>\n",
       "    </tr>\n",
       "    <tr>\n",
       "      <th>std</th>\n",
       "      <td>12.980748</td>\n",
       "      <td>5.757020</td>\n",
       "      <td>4.764679</td>\n",
       "      <td>20.153247</td>\n",
       "    </tr>\n",
       "    <tr>\n",
       "      <th>min</th>\n",
       "      <td>50.000000</td>\n",
       "      <td>0.000000</td>\n",
       "      <td>18.500000</td>\n",
       "      <td>30.000000</td>\n",
       "    </tr>\n",
       "    <tr>\n",
       "      <th>25%</th>\n",
       "      <td>61.000000</td>\n",
       "      <td>4.000000</td>\n",
       "      <td>22.700000</td>\n",
       "      <td>47.000000</td>\n",
       "    </tr>\n",
       "    <tr>\n",
       "      <th>50%</th>\n",
       "      <td>72.000000</td>\n",
       "      <td>9.000000</td>\n",
       "      <td>26.800000</td>\n",
       "      <td>65.000000</td>\n",
       "    </tr>\n",
       "    <tr>\n",
       "      <th>75%</th>\n",
       "      <td>83.000000</td>\n",
       "      <td>14.000000</td>\n",
       "      <td>30.900000</td>\n",
       "      <td>82.000000</td>\n",
       "    </tr>\n",
       "    <tr>\n",
       "      <th>max</th>\n",
       "      <td>94.000000</td>\n",
       "      <td>19.000000</td>\n",
       "      <td>35.000000</td>\n",
       "      <td>99.000000</td>\n",
       "    </tr>\n",
       "  </tbody>\n",
       "</table>\n",
       "</div>"
      ],
      "text/plain": [
       "                Age  Education Level           BMI  Cognitive Test Score\n",
       "count  74283.000000     74283.000000  74283.000000          74283.000000\n",
       "mean      71.964703         9.487514     26.780639             64.654241\n",
       "std       12.980748         5.757020      4.764679             20.153247\n",
       "min       50.000000         0.000000     18.500000             30.000000\n",
       "25%       61.000000         4.000000     22.700000             47.000000\n",
       "50%       72.000000         9.000000     26.800000             65.000000\n",
       "75%       83.000000        14.000000     30.900000             82.000000\n",
       "max       94.000000        19.000000     35.000000             99.000000"
      ]
     },
     "execution_count": 7,
     "metadata": {},
     "output_type": "execute_result"
    }
   ],
   "source": [
    "# Describe Numiric Data\n",
    "df.describe()"
   ]
  },
  {
   "cell_type": "code",
   "execution_count": 8,
   "id": "467b473c",
   "metadata": {
    "papermill": {
     "duration": 0.250999,
     "end_time": "2025-02-13T02:58:50.574887",
     "exception": false,
     "start_time": "2025-02-13T02:58:50.323888",
     "status": "completed"
    },
    "tags": []
   },
   "outputs": [
    {
     "data": {
      "text/html": [
       "<div>\n",
       "<style scoped>\n",
       "    .dataframe tbody tr th:only-of-type {\n",
       "        vertical-align: middle;\n",
       "    }\n",
       "\n",
       "    .dataframe tbody tr th {\n",
       "        vertical-align: top;\n",
       "    }\n",
       "\n",
       "    .dataframe thead th {\n",
       "        text-align: right;\n",
       "    }\n",
       "</style>\n",
       "<table border=\"1\" class=\"dataframe\">\n",
       "  <thead>\n",
       "    <tr style=\"text-align: right;\">\n",
       "      <th></th>\n",
       "      <th>count</th>\n",
       "      <th>unique</th>\n",
       "      <th>top</th>\n",
       "      <th>freq</th>\n",
       "    </tr>\n",
       "  </thead>\n",
       "  <tbody>\n",
       "    <tr>\n",
       "      <th>Country</th>\n",
       "      <td>74283</td>\n",
       "      <td>20</td>\n",
       "      <td>Brazil</td>\n",
       "      <td>3839</td>\n",
       "    </tr>\n",
       "    <tr>\n",
       "      <th>Gender</th>\n",
       "      <td>74283</td>\n",
       "      <td>2</td>\n",
       "      <td>Female</td>\n",
       "      <td>37249</td>\n",
       "    </tr>\n",
       "    <tr>\n",
       "      <th>Physical Activity Level</th>\n",
       "      <td>74283</td>\n",
       "      <td>3</td>\n",
       "      <td>High</td>\n",
       "      <td>24853</td>\n",
       "    </tr>\n",
       "    <tr>\n",
       "      <th>Smoking Status</th>\n",
       "      <td>74283</td>\n",
       "      <td>3</td>\n",
       "      <td>Current</td>\n",
       "      <td>24915</td>\n",
       "    </tr>\n",
       "    <tr>\n",
       "      <th>Alcohol Consumption</th>\n",
       "      <td>74283</td>\n",
       "      <td>3</td>\n",
       "      <td>Never</td>\n",
       "      <td>24865</td>\n",
       "    </tr>\n",
       "    <tr>\n",
       "      <th>Diabetes</th>\n",
       "      <td>74283</td>\n",
       "      <td>2</td>\n",
       "      <td>No</td>\n",
       "      <td>59527</td>\n",
       "    </tr>\n",
       "    <tr>\n",
       "      <th>Hypertension</th>\n",
       "      <td>74283</td>\n",
       "      <td>2</td>\n",
       "      <td>No</td>\n",
       "      <td>52134</td>\n",
       "    </tr>\n",
       "    <tr>\n",
       "      <th>Cholesterol Level</th>\n",
       "      <td>74283</td>\n",
       "      <td>2</td>\n",
       "      <td>Normal</td>\n",
       "      <td>51973</td>\n",
       "    </tr>\n",
       "    <tr>\n",
       "      <th>Family History of Alzheimer’s</th>\n",
       "      <td>74283</td>\n",
       "      <td>2</td>\n",
       "      <td>No</td>\n",
       "      <td>52004</td>\n",
       "    </tr>\n",
       "    <tr>\n",
       "      <th>Depression Level</th>\n",
       "      <td>74283</td>\n",
       "      <td>3</td>\n",
       "      <td>Medium</td>\n",
       "      <td>24843</td>\n",
       "    </tr>\n",
       "    <tr>\n",
       "      <th>Sleep Quality</th>\n",
       "      <td>74283</td>\n",
       "      <td>3</td>\n",
       "      <td>Good</td>\n",
       "      <td>25145</td>\n",
       "    </tr>\n",
       "    <tr>\n",
       "      <th>Dietary Habits</th>\n",
       "      <td>74283</td>\n",
       "      <td>3</td>\n",
       "      <td>Average</td>\n",
       "      <td>24917</td>\n",
       "    </tr>\n",
       "    <tr>\n",
       "      <th>Air Pollution Exposure</th>\n",
       "      <td>74283</td>\n",
       "      <td>3</td>\n",
       "      <td>High</td>\n",
       "      <td>24906</td>\n",
       "    </tr>\n",
       "    <tr>\n",
       "      <th>Employment Status</th>\n",
       "      <td>74283</td>\n",
       "      <td>3</td>\n",
       "      <td>Unemployed</td>\n",
       "      <td>24801</td>\n",
       "    </tr>\n",
       "    <tr>\n",
       "      <th>Marital Status</th>\n",
       "      <td>74283</td>\n",
       "      <td>3</td>\n",
       "      <td>Single</td>\n",
       "      <td>25169</td>\n",
       "    </tr>\n",
       "    <tr>\n",
       "      <th>Genetic Risk Factor (APOE-ε4 allele)</th>\n",
       "      <td>74283</td>\n",
       "      <td>2</td>\n",
       "      <td>No</td>\n",
       "      <td>59561</td>\n",
       "    </tr>\n",
       "    <tr>\n",
       "      <th>Social Engagement Level</th>\n",
       "      <td>74283</td>\n",
       "      <td>3</td>\n",
       "      <td>Medium</td>\n",
       "      <td>24859</td>\n",
       "    </tr>\n",
       "    <tr>\n",
       "      <th>Income Level</th>\n",
       "      <td>74283</td>\n",
       "      <td>3</td>\n",
       "      <td>Low</td>\n",
       "      <td>24873</td>\n",
       "    </tr>\n",
       "    <tr>\n",
       "      <th>Stress Levels</th>\n",
       "      <td>74283</td>\n",
       "      <td>3</td>\n",
       "      <td>Medium</td>\n",
       "      <td>24886</td>\n",
       "    </tr>\n",
       "    <tr>\n",
       "      <th>Urban vs Rural Living</th>\n",
       "      <td>74283</td>\n",
       "      <td>2</td>\n",
       "      <td>Rural</td>\n",
       "      <td>37203</td>\n",
       "    </tr>\n",
       "    <tr>\n",
       "      <th>Alzheimer’s Diagnosis</th>\n",
       "      <td>74283</td>\n",
       "      <td>2</td>\n",
       "      <td>No</td>\n",
       "      <td>43570</td>\n",
       "    </tr>\n",
       "  </tbody>\n",
       "</table>\n",
       "</div>"
      ],
      "text/plain": [
       "                                      count unique         top   freq\n",
       "Country                               74283     20      Brazil   3839\n",
       "Gender                                74283      2      Female  37249\n",
       "Physical Activity Level               74283      3        High  24853\n",
       "Smoking Status                        74283      3     Current  24915\n",
       "Alcohol Consumption                   74283      3       Never  24865\n",
       "Diabetes                              74283      2          No  59527\n",
       "Hypertension                          74283      2          No  52134\n",
       "Cholesterol Level                     74283      2      Normal  51973\n",
       "Family History of Alzheimer’s         74283      2          No  52004\n",
       "Depression Level                      74283      3      Medium  24843\n",
       "Sleep Quality                         74283      3        Good  25145\n",
       "Dietary Habits                        74283      3     Average  24917\n",
       "Air Pollution Exposure                74283      3        High  24906\n",
       "Employment Status                     74283      3  Unemployed  24801\n",
       "Marital Status                        74283      3      Single  25169\n",
       "Genetic Risk Factor (APOE-ε4 allele)  74283      2          No  59561\n",
       "Social Engagement Level               74283      3      Medium  24859\n",
       "Income Level                          74283      3         Low  24873\n",
       "Stress Levels                         74283      3      Medium  24886\n",
       "Urban vs Rural Living                 74283      2       Rural  37203\n",
       "Alzheimer’s Diagnosis                 74283      2          No  43570"
      ]
     },
     "execution_count": 8,
     "metadata": {},
     "output_type": "execute_result"
    }
   ],
   "source": [
    "# Describe non Numiric Data\n",
    "df.describe(exclude='number').T"
   ]
  },
  {
   "cell_type": "code",
   "execution_count": 9,
   "id": "5561ccd2",
   "metadata": {
    "papermill": {
     "duration": 0.274056,
     "end_time": "2025-02-13T02:58:50.862862",
     "exception": false,
     "start_time": "2025-02-13T02:58:50.588806",
     "status": "completed"
    },
    "tags": []
   },
   "outputs": [
    {
     "data": {
      "text/html": [
       "<div>\n",
       "<style scoped>\n",
       "    .dataframe tbody tr th:only-of-type {\n",
       "        vertical-align: middle;\n",
       "    }\n",
       "\n",
       "    .dataframe tbody tr th {\n",
       "        vertical-align: top;\n",
       "    }\n",
       "\n",
       "    .dataframe thead th {\n",
       "        text-align: right;\n",
       "    }\n",
       "</style>\n",
       "<table border=\"1\" class=\"dataframe\">\n",
       "  <thead>\n",
       "    <tr style=\"text-align: right;\">\n",
       "      <th></th>\n",
       "      <th>Count</th>\n",
       "      <th>Null</th>\n",
       "      <th>Null %</th>\n",
       "      <th>Cardinality</th>\n",
       "    </tr>\n",
       "  </thead>\n",
       "  <tbody>\n",
       "    <tr>\n",
       "      <th>Country</th>\n",
       "      <td>74283</td>\n",
       "      <td>0</td>\n",
       "      <td>0.0</td>\n",
       "      <td>20</td>\n",
       "    </tr>\n",
       "    <tr>\n",
       "      <th>Age</th>\n",
       "      <td>74283</td>\n",
       "      <td>0</td>\n",
       "      <td>0.0</td>\n",
       "      <td>45</td>\n",
       "    </tr>\n",
       "    <tr>\n",
       "      <th>Gender</th>\n",
       "      <td>74283</td>\n",
       "      <td>0</td>\n",
       "      <td>0.0</td>\n",
       "      <td>2</td>\n",
       "    </tr>\n",
       "    <tr>\n",
       "      <th>Education Level</th>\n",
       "      <td>74283</td>\n",
       "      <td>0</td>\n",
       "      <td>0.0</td>\n",
       "      <td>20</td>\n",
       "    </tr>\n",
       "    <tr>\n",
       "      <th>BMI</th>\n",
       "      <td>74283</td>\n",
       "      <td>0</td>\n",
       "      <td>0.0</td>\n",
       "      <td>166</td>\n",
       "    </tr>\n",
       "    <tr>\n",
       "      <th>Physical Activity Level</th>\n",
       "      <td>74283</td>\n",
       "      <td>0</td>\n",
       "      <td>0.0</td>\n",
       "      <td>3</td>\n",
       "    </tr>\n",
       "    <tr>\n",
       "      <th>Smoking Status</th>\n",
       "      <td>74283</td>\n",
       "      <td>0</td>\n",
       "      <td>0.0</td>\n",
       "      <td>3</td>\n",
       "    </tr>\n",
       "    <tr>\n",
       "      <th>Alcohol Consumption</th>\n",
       "      <td>74283</td>\n",
       "      <td>0</td>\n",
       "      <td>0.0</td>\n",
       "      <td>3</td>\n",
       "    </tr>\n",
       "    <tr>\n",
       "      <th>Diabetes</th>\n",
       "      <td>74283</td>\n",
       "      <td>0</td>\n",
       "      <td>0.0</td>\n",
       "      <td>2</td>\n",
       "    </tr>\n",
       "    <tr>\n",
       "      <th>Hypertension</th>\n",
       "      <td>74283</td>\n",
       "      <td>0</td>\n",
       "      <td>0.0</td>\n",
       "      <td>2</td>\n",
       "    </tr>\n",
       "    <tr>\n",
       "      <th>Cholesterol Level</th>\n",
       "      <td>74283</td>\n",
       "      <td>0</td>\n",
       "      <td>0.0</td>\n",
       "      <td>2</td>\n",
       "    </tr>\n",
       "    <tr>\n",
       "      <th>Family History of Alzheimer’s</th>\n",
       "      <td>74283</td>\n",
       "      <td>0</td>\n",
       "      <td>0.0</td>\n",
       "      <td>2</td>\n",
       "    </tr>\n",
       "    <tr>\n",
       "      <th>Cognitive Test Score</th>\n",
       "      <td>74283</td>\n",
       "      <td>0</td>\n",
       "      <td>0.0</td>\n",
       "      <td>70</td>\n",
       "    </tr>\n",
       "    <tr>\n",
       "      <th>Depression Level</th>\n",
       "      <td>74283</td>\n",
       "      <td>0</td>\n",
       "      <td>0.0</td>\n",
       "      <td>3</td>\n",
       "    </tr>\n",
       "    <tr>\n",
       "      <th>Sleep Quality</th>\n",
       "      <td>74283</td>\n",
       "      <td>0</td>\n",
       "      <td>0.0</td>\n",
       "      <td>3</td>\n",
       "    </tr>\n",
       "    <tr>\n",
       "      <th>Dietary Habits</th>\n",
       "      <td>74283</td>\n",
       "      <td>0</td>\n",
       "      <td>0.0</td>\n",
       "      <td>3</td>\n",
       "    </tr>\n",
       "    <tr>\n",
       "      <th>Air Pollution Exposure</th>\n",
       "      <td>74283</td>\n",
       "      <td>0</td>\n",
       "      <td>0.0</td>\n",
       "      <td>3</td>\n",
       "    </tr>\n",
       "    <tr>\n",
       "      <th>Employment Status</th>\n",
       "      <td>74283</td>\n",
       "      <td>0</td>\n",
       "      <td>0.0</td>\n",
       "      <td>3</td>\n",
       "    </tr>\n",
       "    <tr>\n",
       "      <th>Marital Status</th>\n",
       "      <td>74283</td>\n",
       "      <td>0</td>\n",
       "      <td>0.0</td>\n",
       "      <td>3</td>\n",
       "    </tr>\n",
       "    <tr>\n",
       "      <th>Genetic Risk Factor (APOE-ε4 allele)</th>\n",
       "      <td>74283</td>\n",
       "      <td>0</td>\n",
       "      <td>0.0</td>\n",
       "      <td>2</td>\n",
       "    </tr>\n",
       "    <tr>\n",
       "      <th>Social Engagement Level</th>\n",
       "      <td>74283</td>\n",
       "      <td>0</td>\n",
       "      <td>0.0</td>\n",
       "      <td>3</td>\n",
       "    </tr>\n",
       "    <tr>\n",
       "      <th>Income Level</th>\n",
       "      <td>74283</td>\n",
       "      <td>0</td>\n",
       "      <td>0.0</td>\n",
       "      <td>3</td>\n",
       "    </tr>\n",
       "    <tr>\n",
       "      <th>Stress Levels</th>\n",
       "      <td>74283</td>\n",
       "      <td>0</td>\n",
       "      <td>0.0</td>\n",
       "      <td>3</td>\n",
       "    </tr>\n",
       "    <tr>\n",
       "      <th>Urban vs Rural Living</th>\n",
       "      <td>74283</td>\n",
       "      <td>0</td>\n",
       "      <td>0.0</td>\n",
       "      <td>2</td>\n",
       "    </tr>\n",
       "    <tr>\n",
       "      <th>Alzheimer’s Diagnosis</th>\n",
       "      <td>74283</td>\n",
       "      <td>0</td>\n",
       "      <td>0.0</td>\n",
       "      <td>2</td>\n",
       "    </tr>\n",
       "  </tbody>\n",
       "</table>\n",
       "</div>"
      ],
      "text/plain": [
       "                                      Count  Null  Null %  Cardinality\n",
       "Country                               74283     0     0.0           20\n",
       "Age                                   74283     0     0.0           45\n",
       "Gender                                74283     0     0.0            2\n",
       "Education Level                       74283     0     0.0           20\n",
       "BMI                                   74283     0     0.0          166\n",
       "Physical Activity Level               74283     0     0.0            3\n",
       "Smoking Status                        74283     0     0.0            3\n",
       "Alcohol Consumption                   74283     0     0.0            3\n",
       "Diabetes                              74283     0     0.0            2\n",
       "Hypertension                          74283     0     0.0            2\n",
       "Cholesterol Level                     74283     0     0.0            2\n",
       "Family History of Alzheimer’s         74283     0     0.0            2\n",
       "Cognitive Test Score                  74283     0     0.0           70\n",
       "Depression Level                      74283     0     0.0            3\n",
       "Sleep Quality                         74283     0     0.0            3\n",
       "Dietary Habits                        74283     0     0.0            3\n",
       "Air Pollution Exposure                74283     0     0.0            3\n",
       "Employment Status                     74283     0     0.0            3\n",
       "Marital Status                        74283     0     0.0            3\n",
       "Genetic Risk Factor (APOE-ε4 allele)  74283     0     0.0            2\n",
       "Social Engagement Level               74283     0     0.0            3\n",
       "Income Level                          74283     0     0.0            3\n",
       "Stress Levels                         74283     0     0.0            3\n",
       "Urban vs Rural Living                 74283     0     0.0            2\n",
       "Alzheimer’s Diagnosis                 74283     0     0.0            2"
      ]
     },
     "execution_count": 9,
     "metadata": {},
     "output_type": "execute_result"
    }
   ],
   "source": [
    "pd.DataFrame({'Count':df.shape[0],\n",
    "              'Null':df.isnull().sum(),\n",
    "              'Null %':df.isnull().mean() * 100,\n",
    "              'Cardinality':df.nunique()\n",
    "})"
   ]
  },
  {
   "cell_type": "code",
   "execution_count": 10,
   "id": "a356db7c",
   "metadata": {
    "papermill": {
     "duration": 0.120662,
     "end_time": "2025-02-13T02:58:50.997795",
     "exception": false,
     "start_time": "2025-02-13T02:58:50.877133",
     "status": "completed"
    },
    "tags": []
   },
   "outputs": [
    {
     "data": {
      "text/plain": [
       "np.int64(0)"
      ]
     },
     "execution_count": 10,
     "metadata": {},
     "output_type": "execute_result"
    }
   ],
   "source": [
    "# Check Dublication\n",
    "df.duplicated().sum()"
   ]
  },
  {
   "cell_type": "markdown",
   "id": "2a716ea6",
   "metadata": {
    "papermill": {
     "duration": 0.014695,
     "end_time": "2025-02-13T02:58:51.027133",
     "exception": false,
     "start_time": "2025-02-13T02:58:51.012438",
     "status": "completed"
    },
    "tags": []
   },
   "source": [
    "<div style=\"color:white;\n",
    "            display:fill;\n",
    "            border-radius:15px;\n",
    "            background-color:black;\n",
    "            font-size:100%;\n",
    "            font-family:Verdana;\n",
    "            letter-spacing:1px\">\n",
    "    <h1 style='padding: 20px;\n",
    "              color:white;\n",
    "              text-align:center;'>\n",
    "        Detection Outliers \n",
    "    </h1>\n",
    "    </div>"
   ]
  },
  {
   "cell_type": "code",
   "execution_count": 11,
   "id": "de6d84b0",
   "metadata": {
    "papermill": {
     "duration": 0.045676,
     "end_time": "2025-02-13T02:58:51.086922",
     "exception": false,
     "start_time": "2025-02-13T02:58:51.041246",
     "status": "completed"
    },
    "tags": []
   },
   "outputs": [
    {
     "name": "stdout",
     "output_type": "stream",
     "text": [
      "Age: 0 outliers detected\n",
      "Education Level: 0 outliers detected\n",
      "BMI: 0 outliers detected\n",
      "Cognitive Test Score: 0 outliers detected\n"
     ]
    }
   ],
   "source": [
    "def detect_outliers_iqr(df, columns, threshold = 1.5):\n",
    "\n",
    "    outlier_indices = {}\n",
    "\n",
    "    for col in columns:\n",
    "        Q1 = df[col].quantile(0.25)  # 25th percentile\n",
    "        Q3 = df[col].quantile(0.75)  # 75th percentile\n",
    "        IQR = Q3 - Q1  # Interquartile range\n",
    "        lower_bound = Q1 - threshold * IQR\n",
    "        upper_bound = Q3 + threshold * IQR\n",
    "\n",
    "        # Finding outliers\n",
    "        outliers = df[(df[col] < lower_bound) | (df[col] > upper_bound)].index.tolist()\n",
    "        outlier_indices[col] = outliers\n",
    "    \n",
    "    return outlier_indices\n",
    "\n",
    "numerical_columns =df.select_dtypes('number').columns.to_list()\n",
    "outliers_iqr = detect_outliers_iqr(df, numerical_columns)\n",
    "\n",
    "for col, indices in outliers_iqr.items():\n",
    "    print(f\"{col}: {len(indices)} outliers detected\")"
   ]
  },
  {
   "cell_type": "code",
   "execution_count": 12,
   "id": "605c83d1",
   "metadata": {
    "papermill": {
     "duration": 0.649418,
     "end_time": "2025-02-13T02:58:51.751066",
     "exception": false,
     "start_time": "2025-02-13T02:58:51.101648",
     "status": "completed"
    },
    "tags": []
   },
   "outputs": [
    {
     "data": {
      "image/png": "[encoded data removed]",
      "text/plain": [
       "<Figure size 1500x600 with 4 Axes>"
      ]
     },
     "metadata": {},
     "output_type": "display_data"
    }
   ],
   "source": [
    "plt.figure(figsize=(15, 6))\n",
    "\n",
    "for i, col in enumerate(numerical_columns, 1):\n",
    "    plt.subplot(2, 2, i)  \n",
    "    sns.boxplot(x = df[col], color = \"skyblue\")\n",
    "    plt.title(f\"Box Plot of {col}\")\n",
    "\n",
    "plt.tight_layout() \n",
    "plt.show()"
   ]
  },
  {
   "cell_type": "markdown",
   "id": "6d43b295",
   "metadata": {
    "papermill": {
     "duration": 0.015639,
     "end_time": "2025-02-13T02:58:51.781920",
     "exception": false,
     "start_time": "2025-02-13T02:58:51.766281",
     "status": "completed"
    },
    "tags": []
   },
   "source": [
    "<div style=\"color:white;\n",
    "            display:fill;\n",
    "            border-radius:15px;\n",
    "            background-color:black;\n",
    "            font-size:100%;\n",
    "            font-family:Verdana;\n",
    "            letter-spacing:1px\">\n",
    "    <h1 style='padding: 20px;\n",
    "              color:white;\n",
    "              text-align:center;'>\n",
    "         EDA of Data and Get Insights\n",
    "    </h1>\n",
    "    </div>"
   ]
  },
  {
   "cell_type": "markdown",
   "id": "45f5103f",
   "metadata": {
    "papermill": {
     "duration": 0.015347,
     "end_time": "2025-02-13T02:58:51.813263",
     "exception": false,
     "start_time": "2025-02-13T02:58:51.797916",
     "status": "completed"
    },
    "tags": []
   },
   "source": [
    "## Most Country has Alzheimer’s Diagnosis"
   ]
  },
  {
   "cell_type": "code",
   "execution_count": 13,
   "id": "2ece6544",
   "metadata": {
    "papermill": {
     "duration": 2.211603,
     "end_time": "2025-02-13T02:58:54.039802",
     "exception": false,
     "start_time": "2025-02-13T02:58:51.828199",
     "status": "completed"
    },
    "tags": []
   },
   "outputs": [
    {
     "data": {
      "text/html": [
       "<iframe\n",
       "    scrolling=\"no\"\n",
       "    width=\"100%\"\n",
       "    height=\"545px\"\n",
       "    src=\"iframe_figures/figure_13.html\"\n",
       "    frameborder=\"0\"\n",
       "    allowfullscreen\n",
       "></iframe>\n"
      ]
     },
     "metadata": {},
     "output_type": "display_data"
    }
   ],
   "source": [
    "fig = px.bar(df['Country'][df['Alzheimer’s Diagnosis'] == 'Yes'].value_counts(),\n",
    "             color = df['Country'][df['Alzheimer’s Diagnosis'] == 'Yes'].value_counts().index,\n",
    "             template = 'plotly_dark',\n",
    "             title = 'Most Country has Alzheimer’s Diagnosis',\n",
    "             labels = {'value':'Count'},\n",
    "             text_auto = True\n",
    "             )\n",
    "pio.renderers.default = 'iframe'\n",
    "fig.show()"
   ]
  },
  {
   "cell_type": "markdown",
   "id": "30b7797c",
   "metadata": {
    "papermill": {
     "duration": 0.014737,
     "end_time": "2025-02-13T02:58:54.071354",
     "exception": false,
     "start_time": "2025-02-13T02:58:54.056617",
     "status": "completed"
    },
    "tags": []
   },
   "source": [
    "- Most Country has Alzheimer’s Diagnosis -> Russia"
   ]
  },
  {
   "cell_type": "markdown",
   "id": "eab0d57f",
   "metadata": {
    "papermill": {
     "duration": 0.015858,
     "end_time": "2025-02-13T02:58:54.102885",
     "exception": false,
     "start_time": "2025-02-13T02:58:54.087027",
     "status": "completed"
    },
    "tags": []
   },
   "source": [
    "## Distribution of Age has Alzheimer’s Diagnosis"
   ]
  },
  {
   "cell_type": "code",
   "execution_count": 14,
   "id": "eab879fb",
   "metadata": {
    "papermill": {
     "duration": 0.398563,
     "end_time": "2025-02-13T02:58:54.518577",
     "exception": false,
     "start_time": "2025-02-13T02:58:54.120014",
     "status": "completed"
    },
    "tags": []
   },
   "outputs": [
    {
     "data": {
      "image/png": "[encoded data removed]",
      "text/plain": [
       "<Figure size 1200x400 with 1 Axes>"
      ]
     },
     "metadata": {},
     "output_type": "display_data"
    }
   ],
   "source": [
    "plt.figure(figsize=(12, 4))\n",
    "\n",
    "sns.kdeplot(df['Age'][df['Alzheimer’s Diagnosis'] == 'Yes'], color='blue', fill=True)\n",
    "plt.title('Distribution of Age has Alzheimer’s Diagnosis')\n",
    "\n",
    "plt.show()"
   ]
  },
  {
   "cell_type": "markdown",
   "id": "1cf772ec",
   "metadata": {
    "papermill": {
     "duration": 0.015712,
     "end_time": "2025-02-13T02:58:54.550865",
     "exception": false,
     "start_time": "2025-02-13T02:58:54.535153",
     "status": "completed"
    },
    "tags": []
   },
   "source": [
    "- Most people develop symptoms of Alzheimer's around the age of 80a"
   ]
  },
  {
   "cell_type": "markdown",
   "id": "1f580fe3",
   "metadata": {
    "papermill": {
     "duration": 0.016148,
     "end_time": "2025-02-13T02:58:54.583015",
     "exception": false,
     "start_time": "2025-02-13T02:58:54.566867",
     "status": "completed"
    },
    "tags": []
   },
   "source": [
    "## What affects the diagnosis of Alzheimer's disease?"
   ]
  },
  {
   "cell_type": "code",
   "execution_count": 15,
   "id": "27606fb0",
   "metadata": {
    "papermill": {
     "duration": 0.155836,
     "end_time": "2025-02-13T02:58:54.754577",
     "exception": false,
     "start_time": "2025-02-13T02:58:54.598741",
     "status": "completed"
    },
    "tags": []
   },
   "outputs": [
    {
     "data": {
      "text/html": [
       "<iframe\n",
       "    scrolling=\"no\"\n",
       "    width=\"100%\"\n",
       "    height=\"545px\"\n",
       "    src=\"iframe_figures/figure_15.html\"\n",
       "    frameborder=\"0\"\n",
       "    allowfullscreen\n",
       "></iframe>\n"
      ]
     },
     "metadata": {},
     "output_type": "display_data"
    }
   ],
   "source": [
    "fig = px.pie(values = df['Physical Activity Level'][df['Alzheimer’s Diagnosis'] == 'Yes'].value_counts(),\n",
    "             names = df['Physical Activity Level'][df['Alzheimer’s Diagnosis'] == 'Yes'].value_counts().index,\n",
    "             template = 'plotly_dark',\n",
    "             title = 'Is Physical Activity Level affect on Alzheimer’s Diagnosis?'\n",
    "             ).update_traces(textinfo='label+percent')\n",
    "\n",
    "fig.show()"
   ]
  },
  {
   "cell_type": "markdown",
   "id": "04d4fbdd",
   "metadata": {
    "papermill": {
     "duration": 0.015864,
     "end_time": "2025-02-13T02:58:54.787759",
     "exception": false,
     "start_time": "2025-02-13T02:58:54.771895",
     "status": "completed"
    },
    "tags": []
   },
   "source": [
    "- Activity level does not affect the diagnosis of Alzheimer's disease"
   ]
  },
  {
   "cell_type": "code",
   "execution_count": 16,
   "id": "4f3ac567",
   "metadata": {
    "papermill": {
     "duration": 0.123697,
     "end_time": "2025-02-13T02:58:54.928614",
     "exception": false,
     "start_time": "2025-02-13T02:58:54.804917",
     "status": "completed"
    },
    "tags": []
   },
   "outputs": [
    {
     "data": {
      "text/html": [
       "<iframe\n",
       "    scrolling=\"no\"\n",
       "    width=\"100%\"\n",
       "    height=\"545px\"\n",
       "    src=\"iframe_figures/figure_16.html\"\n",
       "    frameborder=\"0\"\n",
       "    allowfullscreen\n",
       "></iframe>\n"
      ]
     },
     "metadata": {},
     "output_type": "display_data"
    }
   ],
   "source": [
    "fig = px.pie(values = df['Smoking Status'][df['Alzheimer’s Diagnosis'] == 'Yes'].value_counts(),\n",
    "             names = df['Smoking Status'][df['Alzheimer’s Diagnosis'] == 'Yes'].value_counts().index,\n",
    "             template = 'plotly_dark',\n",
    "             title = 'Is Smoking Status affect on Alzheimer’s Diagnosis?'\n",
    "             ).update_traces(textinfo='label+percent')\n",
    "\n",
    "fig.show()"
   ]
  },
  {
   "cell_type": "markdown",
   "id": "2159279e",
   "metadata": {
    "papermill": {
     "duration": 0.016345,
     "end_time": "2025-02-13T02:58:54.961046",
     "exception": false,
     "start_time": "2025-02-13T02:58:54.944701",
     "status": "completed"
    },
    "tags": []
   },
   "source": [
    "- Smoking Status does not affect the diagnosis of Alzheimer's disease"
   ]
  },
  {
   "cell_type": "code",
   "execution_count": 17,
   "id": "575f51c3",
   "metadata": {
    "papermill": {
     "duration": 0.122541,
     "end_time": "2025-02-13T02:58:55.100089",
     "exception": false,
     "start_time": "2025-02-13T02:58:54.977548",
     "status": "completed"
    },
    "tags": []
   },
   "outputs": [
    {
     "data": {
      "text/html": [
       "<iframe\n",
       "    scrolling=\"no\"\n",
       "    width=\"100%\"\n",
       "    height=\"545px\"\n",
       "    src=\"iframe_figures/figure_17.html\"\n",
       "    frameborder=\"0\"\n",
       "    allowfullscreen\n",
       "></iframe>\n"
      ]
     },
     "metadata": {},
     "output_type": "display_data"
    }
   ],
   "source": [
    "fig = px.pie(values = df['Alcohol Consumption'][df['Alzheimer’s Diagnosis'] == 'Yes'].value_counts(),\n",
    "             names = df['Alcohol Consumption'][df['Alzheimer’s Diagnosis'] == 'Yes'].value_counts().index,\n",
    "             template = 'plotly_dark',\n",
    "             title = 'Is Alcohol Consumption affect on Alzheimer’s Diagnosis?'\n",
    "             ).update_traces(textinfo='label+percent')\n",
    "fig.show()"
   ]
  },
  {
   "cell_type": "markdown",
   "id": "e337ba57",
   "metadata": {
    "papermill": {
     "duration": 0.016531,
     "end_time": "2025-02-13T02:58:55.133638",
     "exception": false,
     "start_time": "2025-02-13T02:58:55.117107",
     "status": "completed"
    },
    "tags": []
   },
   "source": [
    "- Alcohol Consumption does not affect the diagnosis of Alzheimer's disease"
   ]
  },
  {
   "cell_type": "code",
   "execution_count": 18,
   "id": "2234500c",
   "metadata": {
    "papermill": {
     "duration": 0.119722,
     "end_time": "2025-02-13T02:58:55.269700",
     "exception": false,
     "start_time": "2025-02-13T02:58:55.149978",
     "status": "completed"
    },
    "tags": []
   },
   "outputs": [
    {
     "data": {
      "text/html": [
       "<iframe\n",
       "    scrolling=\"no\"\n",
       "    width=\"100%\"\n",
       "    height=\"545px\"\n",
       "    src=\"iframe_figures/figure_18.html\"\n",
       "    frameborder=\"0\"\n",
       "    allowfullscreen\n",
       "></iframe>\n"
      ]
     },
     "metadata": {},
     "output_type": "display_data"
    }
   ],
   "source": [
    "fig = px.pie(values = df['Diabetes'][df['Alzheimer’s Diagnosis'] == 'Yes'].value_counts(),\n",
    "             names = df['Diabetes'][df['Alzheimer’s Diagnosis'] == 'Yes'].value_counts().index,\n",
    "             template = 'plotly_dark',\n",
    "             title = 'Is Diabetes affect on Alzheimer’s Diagnosis?'\n",
    "             ).update_traces(textinfo='label+percent')\n",
    "fig.show()"
   ]
  },
  {
   "cell_type": "markdown",
   "id": "82ede9ec",
   "metadata": {
    "papermill": {
     "duration": 0.016275,
     "end_time": "2025-02-13T02:58:55.302465",
     "exception": false,
     "start_time": "2025-02-13T02:58:55.286190",
     "status": "completed"
    },
    "tags": []
   },
   "source": [
    "- Most people diagnosed with Alzheimer's disease do not have diabetes"
   ]
  },
  {
   "cell_type": "code",
   "execution_count": 19,
   "id": "93c84f3c",
   "metadata": {
    "papermill": {
     "duration": 0.120305,
     "end_time": "2025-02-13T02:58:55.439237",
     "exception": false,
     "start_time": "2025-02-13T02:58:55.318932",
     "status": "completed"
    },
    "tags": []
   },
   "outputs": [
    {
     "data": {
      "text/html": [
       "<iframe\n",
       "    scrolling=\"no\"\n",
       "    width=\"100%\"\n",
       "    height=\"545px\"\n",
       "    src=\"iframe_figures/figure_19.html\"\n",
       "    frameborder=\"0\"\n",
       "    allowfullscreen\n",
       "></iframe>\n"
      ]
     },
     "metadata": {},
     "output_type": "display_data"
    }
   ],
   "source": [
    "fig = px.pie(values = df['Hypertension'][df['Alzheimer’s Diagnosis'] == 'Yes'].value_counts(),\n",
    "             names = df['Hypertension'][df['Alzheimer’s Diagnosis'] == 'Yes'].value_counts().index,\n",
    "             template = 'plotly_dark',\n",
    "             title = 'Is Hypertension affect on Alzheimer’s Diagnosis?'\n",
    "             ).update_traces(textinfo='label+percent')\n",
    "fig.show()"
   ]
  },
  {
   "cell_type": "markdown",
   "id": "8d80e986",
   "metadata": {
    "papermill": {
     "duration": 0.073453,
     "end_time": "2025-02-13T02:58:55.529130",
     "exception": false,
     "start_time": "2025-02-13T02:58:55.455677",
     "status": "completed"
    },
    "tags": []
   },
   "source": [
    "- Most people diagnosed with Alzheimer's disease do not have Hypertension"
   ]
  },
  {
   "cell_type": "code",
   "execution_count": 20,
   "id": "b8d83fb2",
   "metadata": {
    "papermill": {
     "duration": 0.1207,
     "end_time": "2025-02-13T02:58:55.666678",
     "exception": false,
     "start_time": "2025-02-13T02:58:55.545978",
     "status": "completed"
    },
    "tags": []
   },
   "outputs": [
    {
     "data": {
      "text/html": [
       "<iframe\n",
       "    scrolling=\"no\"\n",
       "    width=\"100%\"\n",
       "    height=\"545px\"\n",
       "    src=\"iframe_figures/figure_20.html\"\n",
       "    frameborder=\"0\"\n",
       "    allowfullscreen\n",
       "></iframe>\n"
      ]
     },
     "metadata": {},
     "output_type": "display_data"
    }
   ],
   "source": [
    "fig = px.pie(values = df['Cholesterol Level'][df['Alzheimer’s Diagnosis'] == 'Yes'].value_counts(),\n",
    "             names = df['Cholesterol Level'][df['Alzheimer’s Diagnosis'] == 'Yes'].value_counts().index,\n",
    "             template = 'plotly_dark',\n",
    "             title = 'Is Cholesterol Level affect on Alzheimer’s Diagnosis?'\n",
    "             ).update_traces(textinfo='label+percent')\n",
    "fig.show()"
   ]
  },
  {
   "cell_type": "markdown",
   "id": "4d72dbe7",
   "metadata": {
    "papermill": {
     "duration": 0.016431,
     "end_time": "2025-02-13T02:58:55.699801",
     "exception": false,
     "start_time": "2025-02-13T02:58:55.683370",
     "status": "completed"
    },
    "tags": []
   },
   "source": [
    "- Most people diagnosed with Alzheimer's disease have Cholesterol Level Normal"
   ]
  },
  {
   "cell_type": "code",
   "execution_count": 21,
   "id": "2b906990",
   "metadata": {
    "papermill": {
     "duration": 0.121623,
     "end_time": "2025-02-13T02:58:55.837954",
     "exception": false,
     "start_time": "2025-02-13T02:58:55.716331",
     "status": "completed"
    },
    "tags": []
   },
   "outputs": [
    {
     "data": {
      "text/html": [
       "<iframe\n",
       "    scrolling=\"no\"\n",
       "    width=\"100%\"\n",
       "    height=\"545px\"\n",
       "    src=\"iframe_figures/figure_21.html\"\n",
       "    frameborder=\"0\"\n",
       "    allowfullscreen\n",
       "></iframe>\n"
      ]
     },
     "metadata": {},
     "output_type": "display_data"
    }
   ],
   "source": [
    "fig = px.pie(values = df['Family History of Alzheimer’s'][df['Alzheimer’s Diagnosis'] == 'Yes'].value_counts(),\n",
    "             names = df['Family History of Alzheimer’s'][df['Alzheimer’s Diagnosis'] == 'Yes'].value_counts().index,\n",
    "             template = 'plotly_dark',\n",
    "             title = 'Is Family History of Alzheimer’s Level affect on Alzheimer’s Diagnosis?'\n",
    "             ).update_traces(textinfo='label+percent')\n",
    "fig.show()"
   ]
  },
  {
   "cell_type": "markdown",
   "id": "8030f868",
   "metadata": {
    "papermill": {
     "duration": 0.016392,
     "end_time": "2025-02-13T02:58:55.871105",
     "exception": false,
     "start_time": "2025-02-13T02:58:55.854713",
     "status": "completed"
    },
    "tags": []
   },
   "source": [
    "- Most people diagnosed with Alzheimer's disease do not have Family History of Alzheimer’s"
   ]
  },
  {
   "cell_type": "markdown",
   "id": "d633c57f",
   "metadata": {
    "papermill": {
     "duration": 0.016444,
     "end_time": "2025-02-13T02:58:55.904318",
     "exception": false,
     "start_time": "2025-02-13T02:58:55.887874",
     "status": "completed"
    },
    "tags": []
   },
   "source": [
    "## Is Other Feature affect on Alzheimer’s Diagnosis?"
   ]
  },
  {
   "cell_type": "code",
   "execution_count": 22,
   "id": "588065f1",
   "metadata": {
    "papermill": {
     "duration": 0.101163,
     "end_time": "2025-02-13T02:58:56.022109",
     "exception": false,
     "start_time": "2025-02-13T02:58:55.920946",
     "status": "completed"
    },
    "tags": []
   },
   "outputs": [
    {
     "name": "stdout",
     "output_type": "stream",
     "text": [
      "                               proportion\n",
      "Family History of Alzheimer’s            \n",
      "No                              62.318888\n",
      "Yes                             37.681112\n",
      "                  proportion\n",
      "Depression Level            \n",
      "Low                33.383258\n",
      "High               33.327907\n",
      "Medium             33.288835\n",
      "               proportion\n",
      "Sleep Quality            \n",
      "Good            33.796764\n",
      "Average         33.269300\n",
      "Poor            32.933937\n",
      "                proportion\n",
      "Dietary Habits            \n",
      "Average          33.474425\n",
      "Unhealthy        33.467913\n",
      "Healthy          33.057663\n",
      "                        proportion\n",
      "Air Pollution Exposure            \n",
      "Low                      33.448377\n",
      "High                     33.396282\n",
      "Medium                   33.155341\n",
      "                   proportion\n",
      "Employment Status            \n",
      "Retired             33.552567\n",
      "Unemployed          33.425585\n",
      "Employed            33.021847\n"
     ]
    }
   ],
   "source": [
    "other_columns = df.columns.to_list()[11:-1]\n",
    "for column in other_columns[:7]:\n",
    "   if column != 'Cognitive Test Score':\n",
    "     print(pd.DataFrame(df[column][df['Alzheimer’s Diagnosis'] == 'Yes'].value_counts(normalize=True)*100))"
   ]
  },
  {
   "cell_type": "code",
   "execution_count": 23,
   "id": "94e7c12a",
   "metadata": {
    "papermill": {
     "duration": 0.098915,
     "end_time": "2025-02-13T02:58:56.138096",
     "exception": false,
     "start_time": "2025-02-13T02:58:56.039181",
     "status": "completed"
    },
    "tags": []
   },
   "outputs": [
    {
     "name": "stdout",
     "output_type": "stream",
     "text": [
      "                proportion\n",
      "Marital Status            \n",
      "Single           33.819555\n",
      "Married          33.165109\n",
      "Widowed          33.015336\n",
      "                                      proportion\n",
      "Genetic Risk Factor (APOE-ε4 allele)            \n",
      "No                                     70.947156\n",
      "Yes                                    29.052844\n",
      "                         proportion\n",
      "Social Engagement Level            \n",
      "Medium                    33.526520\n",
      "Low                       33.402794\n",
      "High                      33.070687\n",
      "              proportion\n",
      "Income Level            \n",
      "Medium         33.454889\n",
      "Low            33.308371\n",
      "High           33.236740\n",
      "               proportion\n",
      "Stress Levels            \n",
      "High            33.500472\n",
      "Medium          33.340931\n",
      "Low             33.158597\n",
      "                       proportion\n",
      "Urban vs Rural Living            \n",
      "Rural                   50.327223\n",
      "Urban                   49.672777\n"
     ]
    }
   ],
   "source": [
    "for column in other_columns[7:]:\n",
    "   if column != 'Cognitive Test Score':\n",
    "     print(pd.DataFrame(df[column][df['Alzheimer’s Diagnosis'] == 'Yes'].value_counts(normalize=True)*100))"
   ]
  },
  {
   "cell_type": "markdown",
   "id": "e93b2351",
   "metadata": {
    "papermill": {
     "duration": 0.016752,
     "end_time": "2025-02-13T02:58:56.172210",
     "exception": false,
     "start_time": "2025-02-13T02:58:56.155458",
     "status": "completed"
    },
    "tags": []
   },
   "source": [
    "<div style=\"color:white;\n",
    "            display:fill;\n",
    "            border-radius:15px;\n",
    "            background-color:black;\n",
    "            font-size:100%;\n",
    "            font-family:Verdana;\n",
    "            letter-spacing:1px\">\n",
    "    <h1 style='padding: 20px;\n",
    "              color:white;\n",
    "              text-align:center;'>\n",
    "         Data Preprocessing\n",
    "    </h1>\n",
    "    </div>"
   ]
  },
  {
   "cell_type": "markdown",
   "id": "915ce73c",
   "metadata": {
    "papermill": {
     "duration": 0.016702,
     "end_time": "2025-02-13T02:58:56.205861",
     "exception": false,
     "start_time": "2025-02-13T02:58:56.189159",
     "status": "completed"
    },
    "tags": []
   },
   "source": [
    "## Handling Object DataType"
   ]
  },
  {
   "cell_type": "markdown",
   "id": "69be99cd",
   "metadata": {
    "papermill": {
     "duration": 0.016585,
     "end_time": "2025-02-13T02:58:56.239874",
     "exception": false,
     "start_time": "2025-02-13T02:58:56.223289",
     "status": "completed"
    },
    "tags": []
   },
   "source": [
    "### Encode Object DataType "
   ]
  },
  {
   "cell_type": "code",
   "execution_count": 24,
   "id": "b2130153",
   "metadata": {
    "papermill": {
     "duration": 0.365989,
     "end_time": "2025-02-13T02:58:56.622541",
     "exception": false,
     "start_time": "2025-02-13T02:58:56.256552",
     "status": "completed"
    },
    "tags": []
   },
   "outputs": [],
   "source": [
    "column_to_encode = df.select_dtypes(object).columns.tolist()\n",
    "le = LabelEncoder()\n",
    "for column in column_to_encode:\n",
    "    df[column] = le.fit_transform(df[column])"
   ]
  },
  {
   "cell_type": "code",
   "execution_count": 25,
   "id": "38487319",
   "metadata": {
    "papermill": {
     "duration": 0.038694,
     "end_time": "2025-02-13T02:58:56.678409",
     "exception": false,
     "start_time": "2025-02-13T02:58:56.639715",
     "status": "completed"
    },
    "tags": []
   },
   "outputs": [
    {
     "data": {
      "text/html": [
       "<div>\n",
       "<style scoped>\n",
       "    .dataframe tbody tr th:only-of-type {\n",
       "        vertical-align: middle;\n",
       "    }\n",
       "\n",
       "    .dataframe tbody tr th {\n",
       "        vertical-align: top;\n",
       "    }\n",
       "\n",
       "    .dataframe thead th {\n",
       "        text-align: right;\n",
       "    }\n",
       "</style>\n",
       "<table border=\"1\" class=\"dataframe\">\n",
       "  <thead>\n",
       "    <tr style=\"text-align: right;\">\n",
       "      <th></th>\n",
       "      <th>Country</th>\n",
       "      <th>Age</th>\n",
       "      <th>Gender</th>\n",
       "      <th>Education Level</th>\n",
       "      <th>BMI</th>\n",
       "      <th>Physical Activity Level</th>\n",
       "      <th>Smoking Status</th>\n",
       "      <th>Alcohol Consumption</th>\n",
       "      <th>Diabetes</th>\n",
       "      <th>Hypertension</th>\n",
       "      <th>...</th>\n",
       "      <th>Dietary Habits</th>\n",
       "      <th>Air Pollution Exposure</th>\n",
       "      <th>Employment Status</th>\n",
       "      <th>Marital Status</th>\n",
       "      <th>Genetic Risk Factor (APOE-ε4 allele)</th>\n",
       "      <th>Social Engagement Level</th>\n",
       "      <th>Income Level</th>\n",
       "      <th>Stress Levels</th>\n",
       "      <th>Urban vs Rural Living</th>\n",
       "      <th>Alzheimer’s Diagnosis</th>\n",
       "    </tr>\n",
       "  </thead>\n",
       "  <tbody>\n",
       "    <tr>\n",
       "      <th>0</th>\n",
       "      <td>16</td>\n",
       "      <td>90</td>\n",
       "      <td>1</td>\n",
       "      <td>1</td>\n",
       "      <td>33.0</td>\n",
       "      <td>2</td>\n",
       "      <td>2</td>\n",
       "      <td>1</td>\n",
       "      <td>0</td>\n",
       "      <td>0</td>\n",
       "      <td>...</td>\n",
       "      <td>1</td>\n",
       "      <td>0</td>\n",
       "      <td>1</td>\n",
       "      <td>1</td>\n",
       "      <td>0</td>\n",
       "      <td>1</td>\n",
       "      <td>2</td>\n",
       "      <td>0</td>\n",
       "      <td>1</td>\n",
       "      <td>0</td>\n",
       "    </tr>\n",
       "    <tr>\n",
       "      <th>1</th>\n",
       "      <td>0</td>\n",
       "      <td>72</td>\n",
       "      <td>1</td>\n",
       "      <td>7</td>\n",
       "      <td>29.9</td>\n",
       "      <td>2</td>\n",
       "      <td>1</td>\n",
       "      <td>0</td>\n",
       "      <td>0</td>\n",
       "      <td>0</td>\n",
       "      <td>...</td>\n",
       "      <td>1</td>\n",
       "      <td>2</td>\n",
       "      <td>2</td>\n",
       "      <td>2</td>\n",
       "      <td>0</td>\n",
       "      <td>0</td>\n",
       "      <td>1</td>\n",
       "      <td>0</td>\n",
       "      <td>1</td>\n",
       "      <td>0</td>\n",
       "    </tr>\n",
       "    <tr>\n",
       "      <th>2</th>\n",
       "      <td>14</td>\n",
       "      <td>86</td>\n",
       "      <td>0</td>\n",
       "      <td>19</td>\n",
       "      <td>22.9</td>\n",
       "      <td>0</td>\n",
       "      <td>0</td>\n",
       "      <td>1</td>\n",
       "      <td>0</td>\n",
       "      <td>1</td>\n",
       "      <td>...</td>\n",
       "      <td>0</td>\n",
       "      <td>2</td>\n",
       "      <td>0</td>\n",
       "      <td>1</td>\n",
       "      <td>0</td>\n",
       "      <td>1</td>\n",
       "      <td>2</td>\n",
       "      <td>0</td>\n",
       "      <td>0</td>\n",
       "      <td>0</td>\n",
       "    </tr>\n",
       "    <tr>\n",
       "      <th>3</th>\n",
       "      <td>4</td>\n",
       "      <td>53</td>\n",
       "      <td>1</td>\n",
       "      <td>17</td>\n",
       "      <td>31.2</td>\n",
       "      <td>1</td>\n",
       "      <td>2</td>\n",
       "      <td>2</td>\n",
       "      <td>1</td>\n",
       "      <td>0</td>\n",
       "      <td>...</td>\n",
       "      <td>1</td>\n",
       "      <td>2</td>\n",
       "      <td>1</td>\n",
       "      <td>1</td>\n",
       "      <td>0</td>\n",
       "      <td>0</td>\n",
       "      <td>2</td>\n",
       "      <td>1</td>\n",
       "      <td>0</td>\n",
       "      <td>0</td>\n",
       "    </tr>\n",
       "    <tr>\n",
       "      <th>4</th>\n",
       "      <td>17</td>\n",
       "      <td>58</td>\n",
       "      <td>0</td>\n",
       "      <td>3</td>\n",
       "      <td>30.0</td>\n",
       "      <td>0</td>\n",
       "      <td>1</td>\n",
       "      <td>0</td>\n",
       "      <td>1</td>\n",
       "      <td>0</td>\n",
       "      <td>...</td>\n",
       "      <td>2</td>\n",
       "      <td>0</td>\n",
       "      <td>0</td>\n",
       "      <td>0</td>\n",
       "      <td>0</td>\n",
       "      <td>1</td>\n",
       "      <td>2</td>\n",
       "      <td>0</td>\n",
       "      <td>0</td>\n",
       "      <td>0</td>\n",
       "    </tr>\n",
       "  </tbody>\n",
       "</table>\n",
       "<p>5 rows × 25 columns</p>\n",
       "</div>"
      ],
      "text/plain": [
       "   Country  Age  Gender  Education Level   BMI  Physical Activity Level  \\\n",
       "0       16   90       1                1  33.0                        2   \n",
       "1        0   72       1                7  29.9                        2   \n",
       "2       14   86       0               19  22.9                        0   \n",
       "3        4   53       1               17  31.2                        1   \n",
       "4       17   58       0                3  30.0                        0   \n",
       "\n",
       "   Smoking Status  Alcohol Consumption  Diabetes  Hypertension  ...  \\\n",
       "0               2                    1         0             0  ...   \n",
       "1               1                    0         0             0  ...   \n",
       "2               0                    1         0             1  ...   \n",
       "3               2                    2         1             0  ...   \n",
       "4               1                    0         1             0  ...   \n",
       "\n",
       "   Dietary Habits  Air Pollution Exposure  Employment Status  Marital Status  \\\n",
       "0               1                       0                  1               1   \n",
       "1               1                       2                  2               2   \n",
       "2               0                       2                  0               1   \n",
       "3               1                       2                  1               1   \n",
       "4               2                       0                  0               0   \n",
       "\n",
       "   Genetic Risk Factor (APOE-ε4 allele)  Social Engagement Level  \\\n",
       "0                                     0                        1   \n",
       "1                                     0                        0   \n",
       "2                                     0                        1   \n",
       "3                                     0                        0   \n",
       "4                                     0                        1   \n",
       "\n",
       "   Income Level  Stress Levels  Urban vs Rural Living  Alzheimer’s Diagnosis  \n",
       "0             2              0                      1                      0  \n",
       "1             1              0                      1                      0  \n",
       "2             2              0                      0                      0  \n",
       "3             2              1                      0                      0  \n",
       "4             2              0                      0                      0  \n",
       "\n",
       "[5 rows x 25 columns]"
      ]
     },
     "execution_count": 25,
     "metadata": {},
     "output_type": "execute_result"
    }
   ],
   "source": [
    "# Show Data After some of Encode\n",
    "df.head()"
   ]
  },
  {
   "cell_type": "code",
   "execution_count": 26,
   "id": "3df4d04d",
   "metadata": {
    "papermill": {
     "duration": 0.036632,
     "end_time": "2025-02-13T02:58:56.732523",
     "exception": false,
     "start_time": "2025-02-13T02:58:56.695891",
     "status": "completed"
    },
    "tags": []
   },
   "outputs": [
    {
     "name": "stdout",
     "output_type": "stream",
     "text": [
      "<class 'pandas.core.frame.DataFrame'>\n",
      "RangeIndex: 74283 entries, 0 to 74282\n",
      "Data columns (total 25 columns):\n",
      " #   Column                                Non-Null Count  Dtype  \n",
      "---  ------                                --------------  -----  \n",
      " 0   Country                               74283 non-null  int64  \n",
      " 1   Age                                   74283 non-null  int64  \n",
      " 2   Gender                                74283 non-null  int64  \n",
      " 3   Education Level                       74283 non-null  int64  \n",
      " 4   BMI                                   74283 non-null  float64\n",
      " 5   Physical Activity Level               74283 non-null  int64  \n",
      " 6   Smoking Status                        74283 non-null  int64  \n",
      " 7   Alcohol Consumption                   74283 non-null  int64  \n",
      " 8   Diabetes                              74283 non-null  int64  \n",
      " 9   Hypertension                          74283 non-null  int64  \n",
      " 10  Cholesterol Level                     74283 non-null  int64  \n",
      " 11  Family History of Alzheimer’s         74283 non-null  int64  \n",
      " 12  Cognitive Test Score                  74283 non-null  int64  \n",
      " 13  Depression Level                      74283 non-null  int64  \n",
      " 14  Sleep Quality                         74283 non-null  int64  \n",
      " 15  Dietary Habits                        74283 non-null  int64  \n",
      " 16  Air Pollution Exposure                74283 non-null  int64  \n",
      " 17  Employment Status                     74283 non-null  int64  \n",
      " 18  Marital Status                        74283 non-null  int64  \n",
      " 19  Genetic Risk Factor (APOE-ε4 allele)  74283 non-null  int64  \n",
      " 20  Social Engagement Level               74283 non-null  int64  \n",
      " 21  Income Level                          74283 non-null  int64  \n",
      " 22  Stress Levels                         74283 non-null  int64  \n",
      " 23  Urban vs Rural Living                 74283 non-null  int64  \n",
      " 24  Alzheimer’s Diagnosis                 74283 non-null  int64  \n",
      "dtypes: float64(1), int64(24)\n",
      "memory usage: 14.2 MB\n"
     ]
    }
   ],
   "source": [
    "# Final Info after Encode\n",
    "df.info()"
   ]
  },
  {
   "cell_type": "code",
   "execution_count": 27,
   "id": "fb292992",
   "metadata": {
    "papermill": {
     "duration": 0.285278,
     "end_time": "2025-02-13T02:58:57.035892",
     "exception": false,
     "start_time": "2025-02-13T02:58:56.750614",
     "status": "completed"
    },
    "tags": []
   },
   "outputs": [
    {
     "data": {
      "text/html": [
       "<iframe\n",
       "    scrolling=\"no\"\n",
       "    width=\"1280px\"\n",
       "    height=\"1280\"\n",
       "    src=\"iframe_figures/figure_27.html\"\n",
       "    frameborder=\"0\"\n",
       "    allowfullscreen\n",
       "></iframe>\n"
      ]
     },
     "metadata": {},
     "output_type": "display_data"
    }
   ],
   "source": [
    "fig = px.imshow(df.corr(), \n",
    "                text_auto=True, \n",
    "                color_continuous_scale = \"tempo\",  \n",
    "                template='plotly_dark',\n",
    "                title=\"Correlation Heatmap\")\n",
    "fig.update_layout(\n",
    "    width=1260, \n",
    "    height=1260  \n",
    ")\n",
    "fig.show()"
   ]
  },
  {
   "cell_type": "markdown",
   "id": "36ab354f",
   "metadata": {
    "papermill": {
     "duration": 0.016982,
     "end_time": "2025-02-13T02:58:57.070529",
     "exception": false,
     "start_time": "2025-02-13T02:58:57.053547",
     "status": "completed"
    },
    "tags": []
   },
   "source": [
    "## Assign feature and target variables"
   ]
  },
  {
   "cell_type": "code",
   "execution_count": 28,
   "id": "5cd2797d-ee2b-4b3b-aab7-021d0d4063dc",
   "metadata": {},
   "outputs": [
    {
     "data": {
      "text/html": [
       "<div>\n",
       "<style scoped>\n",
       "    .dataframe tbody tr th:only-of-type {\n",
       "        vertical-align: middle;\n",
       "    }\n",
       "\n",
       "    .dataframe tbody tr th {\n",
       "        vertical-align: top;\n",
       "    }\n",
       "\n",
       "    .dataframe thead th {\n",
       "        text-align: right;\n",
       "    }\n",
       "</style>\n",
       "<table border=\"1\" class=\"dataframe\">\n",
       "  <thead>\n",
       "    <tr style=\"text-align: right;\">\n",
       "      <th></th>\n",
       "      <th>Country</th>\n",
       "      <th>Age</th>\n",
       "      <th>Gender</th>\n",
       "      <th>Education Level</th>\n",
       "      <th>BMI</th>\n",
       "      <th>Physical Activity Level</th>\n",
       "      <th>Smoking Status</th>\n",
       "      <th>Alcohol Consumption</th>\n",
       "      <th>Diabetes</th>\n",
       "      <th>Hypertension</th>\n",
       "      <th>...</th>\n",
       "      <th>Dietary Habits</th>\n",
       "      <th>Air Pollution Exposure</th>\n",
       "      <th>Employment Status</th>\n",
       "      <th>Marital Status</th>\n",
       "      <th>Genetic Risk Factor (APOE-ε4 allele)</th>\n",
       "      <th>Social Engagement Level</th>\n",
       "      <th>Income Level</th>\n",
       "      <th>Stress Levels</th>\n",
       "      <th>Urban vs Rural Living</th>\n",
       "      <th>Alzheimer’s Diagnosis</th>\n",
       "    </tr>\n",
       "  </thead>\n",
       "  <tbody>\n",
       "    <tr>\n",
       "      <th>0</th>\n",
       "      <td>16</td>\n",
       "      <td>90</td>\n",
       "      <td>1</td>\n",
       "      <td>1</td>\n",
       "      <td>33.0</td>\n",
       "      <td>2</td>\n",
       "      <td>2</td>\n",
       "      <td>1</td>\n",
       "      <td>0</td>\n",
       "      <td>0</td>\n",
       "      <td>...</td>\n",
       "      <td>1</td>\n",
       "      <td>0</td>\n",
       "      <td>1</td>\n",
       "      <td>1</td>\n",
       "      <td>0</td>\n",
       "      <td>1</td>\n",
       "      <td>2</td>\n",
       "      <td>0</td>\n",
       "      <td>1</td>\n",
       "      <td>0</td>\n",
       "    </tr>\n",
       "    <tr>\n",
       "      <th>1</th>\n",
       "      <td>0</td>\n",
       "      <td>72</td>\n",
       "      <td>1</td>\n",
       "      <td>7</td>\n",
       "      <td>29.9</td>\n",
       "      <td>2</td>\n",
       "      <td>1</td>\n",
       "      <td>0</td>\n",
       "      <td>0</td>\n",
       "      <td>0</td>\n",
       "      <td>...</td>\n",
       "      <td>1</td>\n",
       "      <td>2</td>\n",
       "      <td>2</td>\n",
       "      <td>2</td>\n",
       "      <td>0</td>\n",
       "      <td>0</td>\n",
       "      <td>1</td>\n",
       "      <td>0</td>\n",
       "      <td>1</td>\n",
       "      <td>0</td>\n",
       "    </tr>\n",
       "    <tr>\n",
       "      <th>2</th>\n",
       "      <td>14</td>\n",
       "      <td>86</td>\n",
       "      <td>0</td>\n",
       "      <td>19</td>\n",
       "      <td>22.9</td>\n",
       "      <td>0</td>\n",
       "      <td>0</td>\n",
       "      <td>1</td>\n",
       "      <td>0</td>\n",
       "      <td>1</td>\n",
       "      <td>...</td>\n",
       "      <td>0</td>\n",
       "      <td>2</td>\n",
       "      <td>0</td>\n",
       "      <td>1</td>\n",
       "      <td>0</td>\n",
       "      <td>1</td>\n",
       "      <td>2</td>\n",
       "      <td>0</td>\n",
       "      <td>0</td>\n",
       "      <td>0</td>\n",
       "    </tr>\n",
       "    <tr>\n",
       "      <th>3</th>\n",
       "      <td>4</td>\n",
       "      <td>53</td>\n",
       "      <td>1</td>\n",
       "      <td>17</td>\n",
       "      <td>31.2</td>\n",
       "      <td>1</td>\n",
       "      <td>2</td>\n",
       "      <td>2</td>\n",
       "      <td>1</td>\n",
       "      <td>0</td>\n",
       "      <td>...</td>\n",
       "      <td>1</td>\n",
       "      <td>2</td>\n",
       "      <td>1</td>\n",
       "      <td>1</td>\n",
       "      <td>0</td>\n",
       "      <td>0</td>\n",
       "      <td>2</td>\n",
       "      <td>1</td>\n",
       "      <td>0</td>\n",
       "      <td>0</td>\n",
       "    </tr>\n",
       "    <tr>\n",
       "      <th>4</th>\n",
       "      <td>17</td>\n",
       "      <td>58</td>\n",
       "      <td>0</td>\n",
       "      <td>3</td>\n",
       "      <td>30.0</td>\n",
       "      <td>0</td>\n",
       "      <td>1</td>\n",
       "      <td>0</td>\n",
       "      <td>1</td>\n",
       "      <td>0</td>\n",
       "      <td>...</td>\n",
       "      <td>2</td>\n",
       "      <td>0</td>\n",
       "      <td>0</td>\n",
       "      <td>0</td>\n",
       "      <td>0</td>\n",
       "      <td>1</td>\n",
       "      <td>2</td>\n",
       "      <td>0</td>\n",
       "      <td>0</td>\n",
       "      <td>0</td>\n",
       "    </tr>\n",
       "    <tr>\n",
       "      <th>...</th>\n",
       "      <td>...</td>\n",
       "      <td>...</td>\n",
       "      <td>...</td>\n",
       "      <td>...</td>\n",
       "      <td>...</td>\n",
       "      <td>...</td>\n",
       "      <td>...</td>\n",
       "      <td>...</td>\n",
       "      <td>...</td>\n",
       "      <td>...</td>\n",
       "      <td>...</td>\n",
       "      <td>...</td>\n",
       "      <td>...</td>\n",
       "      <td>...</td>\n",
       "      <td>...</td>\n",
       "      <td>...</td>\n",
       "      <td>...</td>\n",
       "      <td>...</td>\n",
       "      <td>...</td>\n",
       "      <td>...</td>\n",
       "      <td>...</td>\n",
       "    </tr>\n",
       "    <tr>\n",
       "      <th>74278</th>\n",
       "      <td>12</td>\n",
       "      <td>60</td>\n",
       "      <td>0</td>\n",
       "      <td>3</td>\n",
       "      <td>22.6</td>\n",
       "      <td>0</td>\n",
       "      <td>1</td>\n",
       "      <td>0</td>\n",
       "      <td>0</td>\n",
       "      <td>0</td>\n",
       "      <td>...</td>\n",
       "      <td>0</td>\n",
       "      <td>0</td>\n",
       "      <td>2</td>\n",
       "      <td>2</td>\n",
       "      <td>0</td>\n",
       "      <td>2</td>\n",
       "      <td>0</td>\n",
       "      <td>2</td>\n",
       "      <td>0</td>\n",
       "      <td>0</td>\n",
       "    </tr>\n",
       "    <tr>\n",
       "      <th>74279</th>\n",
       "      <td>18</td>\n",
       "      <td>58</td>\n",
       "      <td>1</td>\n",
       "      <td>18</td>\n",
       "      <td>30.6</td>\n",
       "      <td>1</td>\n",
       "      <td>2</td>\n",
       "      <td>1</td>\n",
       "      <td>1</td>\n",
       "      <td>0</td>\n",
       "      <td>...</td>\n",
       "      <td>0</td>\n",
       "      <td>2</td>\n",
       "      <td>2</td>\n",
       "      <td>1</td>\n",
       "      <td>0</td>\n",
       "      <td>2</td>\n",
       "      <td>0</td>\n",
       "      <td>0</td>\n",
       "      <td>0</td>\n",
       "      <td>0</td>\n",
       "    </tr>\n",
       "    <tr>\n",
       "      <th>74280</th>\n",
       "      <td>16</td>\n",
       "      <td>57</td>\n",
       "      <td>0</td>\n",
       "      <td>13</td>\n",
       "      <td>28.2</td>\n",
       "      <td>2</td>\n",
       "      <td>2</td>\n",
       "      <td>2</td>\n",
       "      <td>0</td>\n",
       "      <td>0</td>\n",
       "      <td>...</td>\n",
       "      <td>1</td>\n",
       "      <td>1</td>\n",
       "      <td>0</td>\n",
       "      <td>1</td>\n",
       "      <td>1</td>\n",
       "      <td>0</td>\n",
       "      <td>1</td>\n",
       "      <td>1</td>\n",
       "      <td>0</td>\n",
       "      <td>0</td>\n",
       "    </tr>\n",
       "    <tr>\n",
       "      <th>74281</th>\n",
       "      <td>2</td>\n",
       "      <td>73</td>\n",
       "      <td>0</td>\n",
       "      <td>7</td>\n",
       "      <td>29.0</td>\n",
       "      <td>1</td>\n",
       "      <td>2</td>\n",
       "      <td>2</td>\n",
       "      <td>0</td>\n",
       "      <td>0</td>\n",
       "      <td>...</td>\n",
       "      <td>1</td>\n",
       "      <td>1</td>\n",
       "      <td>0</td>\n",
       "      <td>2</td>\n",
       "      <td>0</td>\n",
       "      <td>1</td>\n",
       "      <td>1</td>\n",
       "      <td>0</td>\n",
       "      <td>0</td>\n",
       "      <td>0</td>\n",
       "    </tr>\n",
       "    <tr>\n",
       "      <th>74282</th>\n",
       "      <td>11</td>\n",
       "      <td>57</td>\n",
       "      <td>0</td>\n",
       "      <td>1</td>\n",
       "      <td>31.7</td>\n",
       "      <td>1</td>\n",
       "      <td>0</td>\n",
       "      <td>2</td>\n",
       "      <td>0</td>\n",
       "      <td>0</td>\n",
       "      <td>...</td>\n",
       "      <td>0</td>\n",
       "      <td>1</td>\n",
       "      <td>2</td>\n",
       "      <td>1</td>\n",
       "      <td>0</td>\n",
       "      <td>1</td>\n",
       "      <td>2</td>\n",
       "      <td>2</td>\n",
       "      <td>1</td>\n",
       "      <td>0</td>\n",
       "    </tr>\n",
       "  </tbody>\n",
       "</table>\n",
       "<p>74283 rows × 25 columns</p>\n",
       "</div>"
      ],
      "text/plain": [
       "       Country  Age  Gender  Education Level   BMI  Physical Activity Level  \\\n",
       "0           16   90       1                1  33.0                        2   \n",
       "1            0   72       1                7  29.9                        2   \n",
       "2           14   86       0               19  22.9                        0   \n",
       "3            4   53       1               17  31.2                        1   \n",
       "4           17   58       0                3  30.0                        0   \n",
       "...        ...  ...     ...              ...   ...                      ...   \n",
       "74278       12   60       0                3  22.6                        0   \n",
       "74279       18   58       1               18  30.6                        1   \n",
       "74280       16   57       0               13  28.2                        2   \n",
       "74281        2   73       0                7  29.0                        1   \n",
       "74282       11   57       0                1  31.7                        1   \n",
       "\n",
       "       Smoking Status  Alcohol Consumption  Diabetes  Hypertension  ...  \\\n",
       "0                   2                    1         0             0  ...   \n",
       "1                   1                    0         0             0  ...   \n",
       "2                   0                    1         0             1  ...   \n",
       "3                   2                    2         1             0  ...   \n",
       "4                   1                    0         1             0  ...   \n",
       "...               ...                  ...       ...           ...  ...   \n",
       "74278               1                    0         0             0  ...   \n",
       "74279               2                    1         1             0  ...   \n",
       "74280               2                    2         0             0  ...   \n",
       "74281               2                    2         0             0  ...   \n",
       "74282               0                    2         0             0  ...   \n",
       "\n",
       "       Dietary Habits  Air Pollution Exposure  Employment Status  \\\n",
       "0                   1                       0                  1   \n",
       "1                   1                       2                  2   \n",
       "2                   0                       2                  0   \n",
       "3                   1                       2                  1   \n",
       "4                   2                       0                  0   \n",
       "...               ...                     ...                ...   \n",
       "74278               0                       0                  2   \n",
       "74279               0                       2                  2   \n",
       "74280               1                       1                  0   \n",
       "74281               1                       1                  0   \n",
       "74282               0                       1                  2   \n",
       "\n",
       "       Marital Status  Genetic Risk Factor (APOE-ε4 allele)  \\\n",
       "0                   1                                     0   \n",
       "1                   2                                     0   \n",
       "2                   1                                     0   \n",
       "3                   1                                     0   \n",
       "4                   0                                     0   \n",
       "...               ...                                   ...   \n",
       "74278               2                                     0   \n",
       "74279               1                                     0   \n",
       "74280               1                                     1   \n",
       "74281               2                                     0   \n",
       "74282               1                                     0   \n",
       "\n",
       "       Social Engagement Level  Income Level  Stress Levels  \\\n",
       "0                            1             2              0   \n",
       "1                            0             1              0   \n",
       "2                            1             2              0   \n",
       "3                            0             2              1   \n",
       "4                            1             2              0   \n",
       "...                        ...           ...            ...   \n",
       "74278                        2             0              2   \n",
       "74279                        2             0              0   \n",
       "74280                        0             1              1   \n",
       "74281                        1             1              0   \n",
       "74282                        1             2              2   \n",
       "\n",
       "       Urban vs Rural Living  Alzheimer’s Diagnosis  \n",
       "0                          1                      0  \n",
       "1                          1                      0  \n",
       "2                          0                      0  \n",
       "3                          0                      0  \n",
       "4                          0                      0  \n",
       "...                      ...                    ...  \n",
       "74278                      0                      0  \n",
       "74279                      0                      0  \n",
       "74280                      0                      0  \n",
       "74281                      0                      0  \n",
       "74282                      1                      0  \n",
       "\n",
       "[74283 rows x 25 columns]"
      ]
     },
     "execution_count": 28,
     "metadata": {},
     "output_type": "execute_result"
    }
   ],
   "source": [
    "df.fillna(0)"
   ]
  },
  {
   "cell_type": "code",
   "execution_count": 36,
   "id": "6c5ec994",
   "metadata": {
    "papermill": {
     "duration": 0.038045,
     "end_time": "2025-02-13T02:58:57.126240",
     "exception": false,
     "start_time": "2025-02-13T02:58:57.088195",
     "status": "completed"
    },
    "tags": []
   },
   "outputs": [],
   "source": [
    "X = df.drop(labels=['Country','Sleep Quality','Air Pollution Exposure','Urban vs Rural Living','Income Level','Social Engagement Level',\n",
    "                    'Alzheimer’s Diagnosis','Marital Status','Employment Status'] , axis = 1)\n",
    "y = df['Alzheimer’s Diagnosis']"
   ]
  },
  {
   "cell_type": "code",
   "execution_count": 53,
   "id": "8661ddb1-c33c-4e7e-9f5e-e679f516d5b4",
   "metadata": {},
   "outputs": [
    {
     "data": {
      "text/plain": [
       "Index(['Age', 'Gender', 'Education Level', 'BMI', 'Physical Activity Level',\n",
       "       'Smoking Status', 'Alcohol Consumption', 'Diabetes', 'Hypertension',\n",
       "       'Cholesterol Level', 'Family History of Alzheimer’s',\n",
       "       'Cognitive Test Score', 'Depression Level', 'Dietary Habits',\n",
       "       'Genetic Risk Factor (APOE-ε4 allele)', 'Stress Levels'],\n",
       "      dtype='object')"
      ]
     },
     "execution_count": 53,
     "metadata": {},
     "output_type": "execute_result"
    }
   ],
   "source": [
    "X.columns"
   ]
  },
  {
   "cell_type": "markdown",
   "id": "2efe32c9",
   "metadata": {
    "papermill": {
     "duration": 0.017753,
     "end_time": "2025-02-13T02:58:57.161690",
     "exception": false,
     "start_time": "2025-02-13T02:58:57.143937",
     "status": "completed"
    },
    "tags": []
   },
   "source": [
    "## Splitting Data "
   ]
  },
  {
   "cell_type": "code",
   "execution_count": 37,
   "id": "aec11b14",
   "metadata": {
    "papermill": {
     "duration": 0.053902,
     "end_time": "2025-02-13T02:58:57.233811",
     "exception": false,
     "start_time": "2025-02-13T02:58:57.179909",
     "status": "completed"
    },
    "tags": []
   },
   "outputs": [],
   "source": [
    "X_train , X_test , y_train , y_test = train_test_split(X , y , test_size = 0.25 , random_state = 44 , shuffle = True)"
   ]
  },
  {
   "cell_type": "code",
   "execution_count": 38,
   "id": "9099158d",
   "metadata": {
    "papermill": {
     "duration": 0.025673,
     "end_time": "2025-02-13T02:58:57.278406",
     "exception": false,
     "start_time": "2025-02-13T02:58:57.252733",
     "status": "completed"
    },
    "tags": []
   },
   "outputs": [
    {
     "name": "stdout",
     "output_type": "stream",
     "text": [
      "Shape of X_Train (55712, 16)\n",
      "Shape of X_Test (18571, 16)\n",
      "Shape of Y_Train (55712,)\n",
      "Shape of Y_Test (18571,)\n"
     ]
    }
   ],
   "source": [
    "print(f'Shape of X_Train {X_train.shape}')\n",
    "print(f'Shape of X_Test {X_test.shape}')\n",
    "print(f'Shape of Y_Train {y_train.shape}')\n",
    "print(f'Shape of Y_Test {y_test.shape}')"
   ]
  },
  {
   "cell_type": "markdown",
   "id": "6b08e676",
   "metadata": {
    "papermill": {
     "duration": 0.018868,
     "end_time": "2025-02-13T02:58:57.315930",
     "exception": false,
     "start_time": "2025-02-13T02:58:57.297062",
     "status": "completed"
    },
    "tags": []
   },
   "source": [
    "<div style=\"color:white;\n",
    "            display:fill;\n",
    "            border-radius:15px;\n",
    "            background-color:black;\n",
    "            font-size:100%;\n",
    "            font-family:Verdana;\n",
    "            letter-spacing:1px\">\n",
    "    <h1 style='padding: 20px;\n",
    "              color:white;\n",
    "              text-align:center;'>\n",
    "         Modeling\n",
    "    </h1>\n",
    "    </div>"
   ]
  },
  {
   "cell_type": "markdown",
   "id": "cd4880dd",
   "metadata": {
    "papermill": {
     "duration": 0.018033,
     "end_time": "2025-02-13T02:58:57.352319",
     "exception": false,
     "start_time": "2025-02-13T02:58:57.334286",
     "status": "completed"
    },
    "tags": []
   },
   "source": [
    "## Use Different Models Algorithm"
   ]
  },
  {
   "cell_type": "code",
   "execution_count": 39,
   "id": "01eba288",
   "metadata": {
    "papermill": {
     "duration": 0.027247,
     "end_time": "2025-02-13T02:58:57.397218",
     "exception": false,
     "start_time": "2025-02-13T02:58:57.369971",
     "status": "completed"
    },
    "tags": []
   },
   "outputs": [],
   "source": [
    "def Kfold(model,model_name):\n",
    "    model = cross_val_score(model , X , y , cv = 5)\n",
    "    model_score = np.average(model)\n",
    "    print(f\"{model_name} score on cross validation: {model_score * 100}%\")\n",
    "\n",
    "def train(model,model_name):\n",
    "    model.fit(X_train,y_train)\n",
    "    model_train_score = model.score(X_train,y_train)\n",
    "    model_test_score = model.score(X_test,y_test)\n",
    "    print(f\"{model_name} model score on Training data: {model_train_score * 100}%\\n{model_name} model score on Testing data: {model_test_score * 100}%\")\n",
    "\n",
    "def class_report(model):\n",
    "    y_pred = model.predict(X_test)\n",
    "    print(classification_report(y_test, y_pred))"
   ]
  },
  {
   "cell_type": "code",
   "execution_count": 40,
   "id": "3d62b220-4ee6-43cb-96d3-d9c8043f7913",
   "metadata": {},
   "outputs": [
    {
     "name": "stdout",
     "output_type": "stream",
     "text": [
      "Bagging score on cross validation: 71.02566809145048%\n",
      "Bagging model score on Training data: 99.99641010913268%\n",
      "Bagging model score on Testing data: 70.17392709062517%\n"
     ]
    }
   ],
   "source": [
    "bagg_model = BaggingClassifier(n_estimators=100)\n",
    "Kfold(bagg_model, \"Bagging\")\n",
    "train(bagg_model, \"Bagging\")"
   ]
  },
  {
   "cell_type": "code",
   "execution_count": 41,
   "id": "5efdfde9-11bf-4df2-bbaf-fb8fe181465e",
   "metadata": {},
   "outputs": [
    {
     "data": {
      "image/png": "[encoded data removed]",
      "text/plain": [
       "<Figure size 640x480 with 2 Axes>"
      ]
     },
     "metadata": {},
     "output_type": "display_data"
    }
   ],
   "source": [
    "ConfusionMatrixDisplay.from_estimator(bagg_model,\n",
    "                                       X_test,\n",
    "                                       y_test,\n",
    "                                       xticks_rotation=45\n",
    "    );"
   ]
  },
  {
   "cell_type": "code",
   "execution_count": 44,
   "id": "60e7c728-47cc-4a60-b36d-5550be7c80d6",
   "metadata": {},
   "outputs": [
    {
     "name": "stdout",
     "output_type": "stream",
     "text": [
      "              precision    recall  f1-score   support\n",
      "\n",
      "           0       0.74      0.76      0.75     10829\n",
      "           1       0.65      0.62      0.64      7742\n",
      "\n",
      "    accuracy                           0.70     18571\n",
      "   macro avg       0.69      0.69      0.69     18571\n",
      "weighted avg       0.70      0.70      0.70     18571\n",
      "\n"
     ]
    }
   ],
   "source": [
    "class_report(bagg_model)"
   ]
  },
  {
   "cell_type": "code",
   "execution_count": 54,
   "id": "c74ad12f-fff6-43fb-8729-3592733f5e89",
   "metadata": {},
   "outputs": [
    {
     "name": "stdout",
     "output_type": "stream",
     "text": [
      "CPU times: user 8 μs, sys: 0 ns, total: 8 μs\n",
      "Wall time: 14.5 μs\n",
      "Please enter the following details: \n",
      "Age : "
     ]
    },
    {
     "name": "stdin",
     "output_type": "stream",
     "text": [
      " 1\n"
     ]
    },
    {
     "name": "stdout",
     "output_type": "stream",
     "text": [
      "Gender : "
     ]
    },
    {
     "name": "stdin",
     "output_type": "stream",
     "text": [
      " 1\n"
     ]
    },
    {
     "name": "stdout",
     "output_type": "stream",
     "text": [
      "Education Level : "
     ]
    },
    {
     "name": "stdin",
     "output_type": "stream",
     "text": [
      " 1\n"
     ]
    },
    {
     "name": "stdout",
     "output_type": "stream",
     "text": [
      "BMI : "
     ]
    },
    {
     "name": "stdin",
     "output_type": "stream",
     "text": [
      " 1\n"
     ]
    },
    {
     "name": "stdout",
     "output_type": "stream",
     "text": [
      "Physical Activity Level : "
     ]
    },
    {
     "name": "stdin",
     "output_type": "stream",
     "text": [
      " 1\n"
     ]
    },
    {
     "name": "stdout",
     "output_type": "stream",
     "text": [
      "Smoking Status : "
     ]
    },
    {
     "name": "stdin",
     "output_type": "stream",
     "text": [
      " 1\n"
     ]
    },
    {
     "name": "stdout",
     "output_type": "stream",
     "text": [
      "Alcohol Consumption : "
     ]
    },
    {
     "name": "stdin",
     "output_type": "stream",
     "text": [
      " 1\n"
     ]
    },
    {
     "name": "stdout",
     "output_type": "stream",
     "text": [
      "Diabetes : "
     ]
    },
    {
     "name": "stdin",
     "output_type": "stream",
     "text": [
      " 1\n"
     ]
    },
    {
     "name": "stdout",
     "output_type": "stream",
     "text": [
      "Hypertension : "
     ]
    },
    {
     "name": "stdin",
     "output_type": "stream",
     "text": [
      " 1\n"
     ]
    },
    {
     "name": "stdout",
     "output_type": "stream",
     "text": [
      "Cholesterol Level : "
     ]
    },
    {
     "name": "stdin",
     "output_type": "stream",
     "text": [
      " 1\n"
     ]
    },
    {
     "name": "stdout",
     "output_type": "stream",
     "text": [
      "Family History of Alzheimer’s : "
     ]
    },
    {
     "name": "stdin",
     "output_type": "stream",
     "text": [
      " 1\n"
     ]
    },
    {
     "name": "stdout",
     "output_type": "stream",
     "text": [
      "Cognitive Test Score : "
     ]
    },
    {
     "name": "stdin",
     "output_type": "stream",
     "text": [
      " 1\n"
     ]
    },
    {
     "name": "stdout",
     "output_type": "stream",
     "text": [
      "Depression Level : "
     ]
    },
    {
     "name": "stdin",
     "output_type": "stream",
     "text": [
      " 1\n"
     ]
    },
    {
     "name": "stdout",
     "output_type": "stream",
     "text": [
      "Dietary Habits : "
     ]
    },
    {
     "name": "stdin",
     "output_type": "stream",
     "text": [
      " 1\n"
     ]
    },
    {
     "name": "stdout",
     "output_type": "stream",
     "text": [
      "Genetic Risk Factor (APOE-ε4 allele) : "
     ]
    },
    {
     "name": "stdin",
     "output_type": "stream",
     "text": [
      " 1\n"
     ]
    },
    {
     "name": "stdout",
     "output_type": "stream",
     "text": [
      "Stress Levels : "
     ]
    },
    {
     "name": "stdin",
     "output_type": "stream",
     "text": [
      " 1\n"
     ]
    }
   ],
   "source": [
    "%time\n",
    "questions = ['Age', 'Gender', 'Education Level', 'BMI', 'Physical Activity Level',\n",
    "       'Smoking Status', 'Alcohol Consumption', 'Diabetes', 'Hypertension',\n",
    "       'Cholesterol Level', 'Family History of Alzheimer’s',\n",
    "       'Cognitive Test Score', 'Depression Level', 'Dietary Habits',\n",
    "       'Genetic Risk Factor (APOE-ε4 allele)', 'Stress Levels']\n",
    "answers = []\n",
    "print(\"Please enter the following details: \")\n",
    "for i in questions:\n",
    "    print(i, \": \", end=\"\")\n",
    "    temp = input()\n",
    "    answers.append(temp)\n",
    "\n",
    "report = {}\n",
    "\n",
    "for key in questions:\n",
    "    for value in answers:\n",
    "        report[key] = value\n",
    "        answers.remove(value)\n",
    "        break\n"
   ]
  },
  {
   "cell_type": "code",
   "execution_count": 57,
   "id": "37892846-7be2-43ab-9398-2dbeeb0424ed",
   "metadata": {},
   "outputs": [
    {
     "name": "stdout",
     "output_type": "stream",
     "text": [
      "The patient does not have Alzheimers\n"
     ]
    }
   ],
   "source": [
    "# Convert dictionary(report) to DataFrame(patient_df)\n",
    "patient_df = pd.DataFrame([report])\n",
    "\n",
    "# Make a prediction\n",
    "prediction = bagg_model.predict(patient_df)\n",
    "\n",
    "if prediction[0] == 0:\n",
    "    print(\"The patient does not have Alzheimers\")\n",
    "else:\n",
    "    print(\"The patient has Alzheimers\")"
   ]
  },
  {
   "cell_type": "code",
   "execution_count": 59,
   "id": "cfb56e1f-54e2-4190-86e1-8320794bff6f",
   "metadata": {},
   "outputs": [
    {
     "data": {
      "text/plain": [
       "['alzheimers-prediction.joblib']"
      ]
     },
     "execution_count": 59,
     "metadata": {},
     "output_type": "execute_result"
    }
   ],
   "source": [
    "from joblib import dump\n",
    "dump(bagg_model, 'alzheimers-prediction.joblib')"
   ]
  },
  {
   "cell_type": "code",
   "execution_count": null,
   "id": "537c22d1-9f3c-4b9c-9f25-fd913ba37a85",
   "metadata": {},
   "outputs": [],
   "source": []
  }
 ],
 "metadata": {
  "kaggle": {
   "accelerator": "none",
   "dataSources": [
    {
     "datasetId": 6574594,
     "sourceId": 10618775,
     "sourceType": "datasetVersion"
    }
   ],
   "dockerImageVersionId": 30886,
   "isGpuEnabled": false,
   "isInternetEnabled": true,
   "language": "python",
   "sourceType": "notebook"
  },
  "kernelspec": {
   "display_name": "Base",
   "language": "python",
   "name": "base"
  },
  "language_info": {
   "codemirror_mode": {
    "name": "ipython",
    "version": 3
   },
   "file_extension": ".py",
   "mimetype": "text/x-python",
   "name": "python",
   "nbconvert_exporter": "python",
   "pygments_lexer": "ipython3",
   "version": "3.11.9"
  },
  "papermill": {
   "default_parameters": {},
   "duration": 1935.563702,
   "end_time": "2025-02-13T03:30:56.903133",
   "environment_variables": {},
   "exception": null,
   "input_path": "__notebook__.ipynb",
   "output_path": "__notebook__.ipynb",
   "parameters": {},
   "start_time": "2025-02-13T02:58:41.339431",
   "version": "2.6.0"
  }
 },
 "nbformat": 4,
 "nbformat_minor": 5
}
